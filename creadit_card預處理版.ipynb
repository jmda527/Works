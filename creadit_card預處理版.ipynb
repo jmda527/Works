{
 "cells": [
  {
   "cell_type": "code",
   "execution_count": 1,
   "metadata": {
    "colab": {},
    "colab_type": "code",
    "id": "6Lu9W96m8UMD"
   },
   "outputs": [],
   "source": [
    "import numpy as np\n",
    "import matplotlib.pyplot as plt\n",
    "import pandas as pd\n",
    "import seaborn as sns\n",
    "%matplotlib inline"
   ]
  },
  {
   "cell_type": "markdown",
   "metadata": {
    "colab_type": "text",
    "id": "Ow31xyLs8UMH"
   },
   "source": [
    "# import data"
   ]
  },
  {
   "cell_type": "code",
   "execution_count": 2,
   "metadata": {
    "colab": {},
    "colab_type": "code",
    "id": "NWkX0t288UMI"
   },
   "outputs": [],
   "source": [
    "data = pd.read_csv('./train.csv')\n",
    "test_data = pd.read_csv('./test.csv')"
   ]
  },
  {
   "cell_type": "code",
   "execution_count": 3,
   "metadata": {},
   "outputs": [],
   "source": [
    "#merge train/test data\n",
    "data['label'] = 'train'\n",
    "test_data['label'] = 'test'\n",
    "data_y = data['fraud_ind']\n",
    "data_x = data.drop('fraud_ind',axis=1)\n",
    "data = pd.concat([data_x,test_data],axis=0)"
   ]
  },
  {
   "cell_type": "markdown",
   "metadata": {
    "colab_type": "text",
    "id": "B5TEu-sx8UML"
   },
   "source": [
    "# Preprocessing"
   ]
  },
  {
   "cell_type": "code",
   "execution_count": 4,
   "metadata": {
    "colab": {},
    "colab_type": "code",
    "id": "XLa0Y-768UML"
   },
   "outputs": [],
   "source": [
    "pd.set_option('display.max_columns',50)"
   ]
  },
  {
   "cell_type": "code",
   "execution_count": 5,
   "metadata": {
    "colab": {},
    "colab_type": "code",
    "id": "EqKd0SBR8UMN"
   },
   "outputs": [],
   "source": [
    "dict1 = {'bacno':'歸戶帳號','txkey':'交易序號','locdt':'授權日期','loctm':'授權時間',\n",
    "         'cano':'交易卡號','contp':'交易類別','etymd':'交易型態','mchno':'特店代號',\n",
    "         'acqic':'收單行代碼','mcc':'MCC_CODE','conam':'交易金額台幣','ecfg':'網路交易註記',\n",
    "         'insfg':'分期交易註記','iterm':'分期期數','stocn':'消費地國別','scity':'消費城市',\n",
    "         'stscd':'狀態碼','ovrlt':'超額註記碼','flbmk':'Fallback註記','hcefg':'支付形態',\n",
    "         'csmcu':'消費地幣別','flg_3dsmk':'交易註記','fraud_ind':'盜刷註記'}"
   ]
  },
  {
   "cell_type": "code",
   "execution_count": 6,
   "metadata": {
    "colab": {},
    "colab_type": "code",
    "id": "Fet_5hcL8UMR"
   },
   "outputs": [],
   "source": [
    "#1.重新命名column\n",
    "data.rename(mapper=dict1,axis=1,inplace=True)\n",
    "#2.填充缺失值\n",
    "data.fillna('N',inplace=True)\n",
    "#3.N,Y換成0,1\n",
    "data.replace({'N':0,'Y':1},inplace=True)\n",
    "#4.將交易金額轉成常態分布\n",
    "data.交易金額台幣 = np.log(1+data.交易金額台幣)"
   ]
  },
  {
   "cell_type": "code",
   "execution_count": 7,
   "metadata": {},
   "outputs": [
    {
     "data": {
      "text/html": [
       "<div>\n",
       "<style scoped>\n",
       "    .dataframe tbody tr th:only-of-type {\n",
       "        vertical-align: middle;\n",
       "    }\n",
       "\n",
       "    .dataframe tbody tr th {\n",
       "        vertical-align: top;\n",
       "    }\n",
       "\n",
       "    .dataframe thead th {\n",
       "        text-align: right;\n",
       "    }\n",
       "</style>\n",
       "<table border=\"1\" class=\"dataframe\">\n",
       "  <thead>\n",
       "    <tr style=\"text-align: right;\">\n",
       "      <th></th>\n",
       "      <th>收單行代碼</th>\n",
       "      <th>歸戶帳號</th>\n",
       "      <th>交易卡號</th>\n",
       "      <th>交易金額台幣</th>\n",
       "      <th>交易類別</th>\n",
       "      <th>消費地幣別</th>\n",
       "      <th>網路交易註記</th>\n",
       "      <th>交易型態</th>\n",
       "      <th>Fallback註記</th>\n",
       "      <th>交易註記</th>\n",
       "      <th>支付形態</th>\n",
       "      <th>分期交易註記</th>\n",
       "      <th>分期期數</th>\n",
       "      <th>授權日期</th>\n",
       "      <th>授權時間</th>\n",
       "      <th>MCC_CODE</th>\n",
       "      <th>特店代號</th>\n",
       "      <th>超額註記碼</th>\n",
       "      <th>消費城市</th>\n",
       "      <th>消費地國別</th>\n",
       "      <th>狀態碼</th>\n",
       "      <th>交易序號</th>\n",
       "      <th>label</th>\n",
       "    </tr>\n",
       "  </thead>\n",
       "  <tbody>\n",
       "    <tr>\n",
       "      <th>0</th>\n",
       "      <td>6881</td>\n",
       "      <td>113261</td>\n",
       "      <td>38038</td>\n",
       "      <td>6.243778</td>\n",
       "      <td>5</td>\n",
       "      <td>0</td>\n",
       "      <td>0</td>\n",
       "      <td>0</td>\n",
       "      <td>0</td>\n",
       "      <td>0</td>\n",
       "      <td>5</td>\n",
       "      <td>0</td>\n",
       "      <td>0</td>\n",
       "      <td>33</td>\n",
       "      <td>172652.0</td>\n",
       "      <td>457</td>\n",
       "      <td>59333</td>\n",
       "      <td>0</td>\n",
       "      <td>0</td>\n",
       "      <td>102</td>\n",
       "      <td>0</td>\n",
       "      <td>516056</td>\n",
       "      <td>train</td>\n",
       "    </tr>\n",
       "    <tr>\n",
       "      <th>1</th>\n",
       "      <td>0</td>\n",
       "      <td>134508</td>\n",
       "      <td>45725</td>\n",
       "      <td>6.145515</td>\n",
       "      <td>5</td>\n",
       "      <td>0</td>\n",
       "      <td>0</td>\n",
       "      <td>2</td>\n",
       "      <td>0</td>\n",
       "      <td>0</td>\n",
       "      <td>0</td>\n",
       "      <td>0</td>\n",
       "      <td>0</td>\n",
       "      <td>9</td>\n",
       "      <td>105114.0</td>\n",
       "      <td>451</td>\n",
       "      <td>0</td>\n",
       "      <td>0</td>\n",
       "      <td>5817</td>\n",
       "      <td>102</td>\n",
       "      <td>0</td>\n",
       "      <td>4376</td>\n",
       "      <td>train</td>\n",
       "    </tr>\n",
       "    <tr>\n",
       "      <th>2</th>\n",
       "      <td>6881</td>\n",
       "      <td>15408</td>\n",
       "      <td>188328</td>\n",
       "      <td>6.243778</td>\n",
       "      <td>5</td>\n",
       "      <td>0</td>\n",
       "      <td>0</td>\n",
       "      <td>0</td>\n",
       "      <td>0</td>\n",
       "      <td>0</td>\n",
       "      <td>5</td>\n",
       "      <td>0</td>\n",
       "      <td>0</td>\n",
       "      <td>6</td>\n",
       "      <td>152458.0</td>\n",
       "      <td>457</td>\n",
       "      <td>59333</td>\n",
       "      <td>0</td>\n",
       "      <td>0</td>\n",
       "      <td>102</td>\n",
       "      <td>0</td>\n",
       "      <td>483434</td>\n",
       "      <td>train</td>\n",
       "    </tr>\n",
       "    <tr>\n",
       "      <th>3</th>\n",
       "      <td>6716</td>\n",
       "      <td>157159</td>\n",
       "      <td>29967</td>\n",
       "      <td>6.924721</td>\n",
       "      <td>5</td>\n",
       "      <td>62</td>\n",
       "      <td>0</td>\n",
       "      <td>5</td>\n",
       "      <td>0</td>\n",
       "      <td>0</td>\n",
       "      <td>5</td>\n",
       "      <td>0</td>\n",
       "      <td>0</td>\n",
       "      <td>5</td>\n",
       "      <td>172946.0</td>\n",
       "      <td>247</td>\n",
       "      <td>50436</td>\n",
       "      <td>0</td>\n",
       "      <td>3281</td>\n",
       "      <td>102</td>\n",
       "      <td>0</td>\n",
       "      <td>1407164</td>\n",
       "      <td>train</td>\n",
       "    </tr>\n",
       "    <tr>\n",
       "      <th>4</th>\n",
       "      <td>5975</td>\n",
       "      <td>105985</td>\n",
       "      <td>81305</td>\n",
       "      <td>6.571807</td>\n",
       "      <td>5</td>\n",
       "      <td>62</td>\n",
       "      <td>0</td>\n",
       "      <td>4</td>\n",
       "      <td>0</td>\n",
       "      <td>0</td>\n",
       "      <td>5</td>\n",
       "      <td>0</td>\n",
       "      <td>0</td>\n",
       "      <td>6</td>\n",
       "      <td>182129.0</td>\n",
       "      <td>263</td>\n",
       "      <td>93775</td>\n",
       "      <td>0</td>\n",
       "      <td>5817</td>\n",
       "      <td>102</td>\n",
       "      <td>0</td>\n",
       "      <td>1051004</td>\n",
       "      <td>train</td>\n",
       "    </tr>\n",
       "  </tbody>\n",
       "</table>\n",
       "</div>"
      ],
      "text/plain": [
       "   收單行代碼    歸戶帳號    交易卡號    交易金額台幣  交易類別  消費地幣別  網路交易註記  交易型態  Fallback註記  \\\n",
       "0   6881  113261   38038  6.243778     5      0       0     0           0   \n",
       "1      0  134508   45725  6.145515     5      0       0     2           0   \n",
       "2   6881   15408  188328  6.243778     5      0       0     0           0   \n",
       "3   6716  157159   29967  6.924721     5     62       0     5           0   \n",
       "4   5975  105985   81305  6.571807     5     62       0     4           0   \n",
       "\n",
       "   交易註記  支付形態  分期交易註記  分期期數  授權日期      授權時間  MCC_CODE   特店代號  超額註記碼  消費城市  \\\n",
       "0     0     5       0     0    33  172652.0       457  59333      0     0   \n",
       "1     0     0       0     0     9  105114.0       451      0      0  5817   \n",
       "2     0     5       0     0     6  152458.0       457  59333      0     0   \n",
       "3     0     5       0     0     5  172946.0       247  50436      0  3281   \n",
       "4     0     5       0     0     6  182129.0       263  93775      0  5817   \n",
       "\n",
       "   消費地國別  狀態碼     交易序號  label  \n",
       "0    102    0   516056  train  \n",
       "1    102    0     4376  train  \n",
       "2    102    0   483434  train  \n",
       "3    102    0  1407164  train  \n",
       "4    102    0  1051004  train  "
      ]
     },
     "execution_count": 7,
     "metadata": {},
     "output_type": "execute_result"
    }
   ],
   "source": [
    "data.head()"
   ]
  },
  {
   "cell_type": "code",
   "execution_count": 8,
   "metadata": {},
   "outputs": [],
   "source": [
    "#4.將下列list新增統計資料(出現次數排名)\n",
    "list_agg = ['收單行代碼','歸戶帳號','交易卡號','交易金額台幣','消費地幣別','MCC_CODE','特店代號','消費城市','消費地國別']\n",
    "for i in list_agg:\n",
    "    loc = list(data.columns).index(i)\n",
    "    col = data[i].map(data.groupby(i).count().iloc[:,0])\n",
    "    data.insert(loc+1,i+'_agg',col)"
   ]
  },
  {
   "cell_type": "code",
   "execution_count": 9,
   "metadata": {},
   "outputs": [],
   "source": [
    "#5.將下列list新增統計資料(同帳號重複次數)\n",
    "list_agg2 = ['收單行代碼','交易金額台幣','消費地幣別','授權日期','MCC_CODE','特店代號','消費城市','消費地國別']\n",
    "for i in list_agg2:\n",
    "    loc = list(data.columns).index(i)\n",
    "    data['連續'] = data['歸戶帳號'].astype('str') +'_'+ data['交易卡號'].astype('str') +'_'+ data[i].astype('str')\n",
    "    col = data['連續'].map(data.groupby(data['連續']).count()['收單行代碼'])\n",
    "    data.insert(loc+2,i+'_agg2',col)\n",
    "data.drop('連續',axis=1,inplace=True)"
   ]
  },
  {
   "cell_type": "code",
   "execution_count": 10,
   "metadata": {},
   "outputs": [],
   "source": [
    "#5.將統計數字轉成常態分布\n",
    "loc = []\n",
    "for i,j in enumerate(data.columns):\n",
    "    if 'agg' in j:\n",
    "        loc.append(i)\n",
    "for i in loc:\n",
    "    data.iloc[:,i] = np.log(1+data.iloc[:,i])"
   ]
  },
  {
   "cell_type": "code",
   "execution_count": 11,
   "metadata": {},
   "outputs": [],
   "source": [
    "#6.轉換時間格式(min)\n",
    "def time_trans(num):\n",
    "    if len(num) == 6:\n",
    "        return int(num[0:2])*60 + int(num[2:4])\n",
    "    elif len(num) == 5:\n",
    "        return int(num[0:1])*60 + int(num[1:3])\n",
    "    elif len(num) == 4:\n",
    "        return int(num[0:2])\n",
    "    elif len(num) == 3:\n",
    "        return int(num[0:1])\n",
    "    else:\n",
    "        return 0\n",
    "data['授權時間'] = data['授權時間'].astype('int32').astype('str')\n",
    "data['授權時間'] = data['授權時間'].apply(time_trans)"
   ]
  },
  {
   "cell_type": "code",
   "execution_count": 12,
   "metadata": {},
   "outputs": [],
   "source": [
    "#7.轉換日期格式\n",
    "def day_trans(day):\n",
    "    if day <= 31:\n",
    "        return '2019-05-' + str(day)\n",
    "    elif day <= 61:\n",
    "        return '2019-06-' + str(int(day%31))\n",
    "    elif day <= 92:\n",
    "        return '2019-07-' + str(int(day%31+1))\n",
    "    else:\n",
    "        return '2019-08-' + str(int(day%31+1))\n",
    "data['授權日期'] = pd.to_datetime(data['授權日期'].apply(day_trans))"
   ]
  },
  {
   "cell_type": "code",
   "execution_count": 13,
   "metadata": {},
   "outputs": [
    {
     "name": "stderr",
     "output_type": "stream",
     "text": [
      "C:\\Users\\User\\Anaconda3\\lib\\site-packages\\ipykernel_launcher.py:4: FutureWarning: `weekday_name` is deprecated and will be removed in a future version. Use `day_name` instead\n",
      "  after removing the cwd from sys.path.\n"
     ]
    }
   ],
   "source": [
    "#8.從日期取出特徵\n",
    "weekday_map = {'Monday':1,'Tuesday':2,'Wednesday':3,'Thursday':4,'Friday':5,'Saturday':6,'Sunday':7}\n",
    "def weekday_extract(date):\n",
    "    return weekday_map[date.weekday_name]\n",
    "def day_extract(date):\n",
    "    return date.day\n",
    "data['weekday'] = data['授權日期'].apply(weekday_extract)\n",
    "data['day'] = data['授權日期'].apply(day_extract)\n",
    "data.drop('授權日期',axis=1,inplace=True)"
   ]
  },
  {
   "cell_type": "code",
   "execution_count": 80,
   "metadata": {},
   "outputs": [],
   "source": [
    "data = pd.get_dummies(data,columns=['消費地國別'])"
   ]
  },
  {
   "cell_type": "code",
   "execution_count": 81,
   "metadata": {},
   "outputs": [],
   "source": [
    "train_data = data[data['label'] == 'train']\n",
    "test_data = data[data['label'] == 'test']\n",
    "train_data.drop('label',axis=1,inplace=True)\n",
    "test_data.drop('label',axis=1,inplace=True)"
   ]
  },
  {
   "cell_type": "code",
   "execution_count": 82,
   "metadata": {},
   "outputs": [],
   "source": [
    "from sklearn.model_selection import train_test_split\n",
    "x_train,x_test,y_train,y_test = train_test_split(train_data,data_y,test_size=0.1,random_state=0)"
   ]
  },
  {
   "cell_type": "markdown",
   "metadata": {
    "colab_type": "text",
    "id": "RoWqdpqru0vO"
   },
   "source": [
    "# SMOTE平衡數據(暫時不用)"
   ]
  },
  {
   "cell_type": "code",
   "execution_count": null,
   "metadata": {
    "colab": {
     "base_uri": "https://localhost:8080/",
     "height": 72
    },
    "colab_type": "code",
    "id": "bNnXUY9m8UMy",
    "outputId": "68c52f4f-13a3-45e4-8156-4e69ae4f143b"
   },
   "outputs": [],
   "source": [
    "from imblearn.over_sampling import SMOTE\n",
    "sample = SMOTE(random_state=1)\n",
    "x_fake,y_fake = sample.fit_sample(x_train,y_train)"
   ]
  },
  {
   "cell_type": "markdown",
   "metadata": {
    "colab_type": "text",
    "id": "LA_KqVrM8UM0"
   },
   "source": [
    "# create model(XGBoost)"
   ]
  },
  {
   "cell_type": "code",
   "execution_count": 17,
   "metadata": {
    "colab": {},
    "colab_type": "code",
    "id": "2mif-Ey_8UM0"
   },
   "outputs": [],
   "source": [
    "import xgboost as xgb\n",
    "from sklearn.model_selection import GridSearchCV"
   ]
  },
  {
   "cell_type": "code",
   "execution_count": 83,
   "metadata": {},
   "outputs": [],
   "source": [
    "xgb_train = xgb.DMatrix(x_train,y_train)\n",
    "xgb_val = xgb.DMatrix(x_test,y_test)"
   ]
  },
  {
   "cell_type": "markdown",
   "metadata": {},
   "source": [
    "(1)optimize parameters"
   ]
  },
  {
   "cell_type": "code",
   "execution_count": null,
   "metadata": {},
   "outputs": [],
   "source": [
    "model_test = xgb.XGBClassifier(**para)"
   ]
  },
  {
   "cell_type": "code",
   "execution_count": null,
   "metadata": {},
   "outputs": [],
   "source": [
    "para = {\n",
    "'learning_rate':0.1,\n",
    "'n_estimators':1000,\n",
    "'objective':'binary:logistic',\n",
    "'booster':'gbtree',\n",
    "'gamma':0,\n",
    "#'max_depth':3,\n",
    "#'min_child_weight':1,\n",
    "'max_delta_step':1,\n",
    "'subsample':1,\n",
    "'colsample_bytree':1,\n",
    "'reg_alpha':0,\n",
    "'reg_lambda':1,\n",
    "'scale_pos_weight':1,\n",
    "'random_state':0,\n",
    "}\n",
    "#------------------------\n",
    "grid_para={\n",
    "'min_child_weight':[1,3,5],\n",
    "'max_depth':[4,5,6,7,8]\n",
    "}"
   ]
  },
  {
   "cell_type": "code",
   "execution_count": null,
   "metadata": {},
   "outputs": [],
   "source": [
    "grid = GridSearchCV(model_test,grid_para,scoring='f1',cv=5,n_jobs=-1)"
   ]
  },
  {
   "cell_type": "code",
   "execution_count": null,
   "metadata": {},
   "outputs": [],
   "source": [
    "grid.fit(x_train,y_train)"
   ]
  },
  {
   "cell_type": "markdown",
   "metadata": {},
   "source": [
    "(2)start fitting"
   ]
  },
  {
   "cell_type": "code",
   "execution_count": 84,
   "metadata": {},
   "outputs": [],
   "source": [
    "fit_para ={\n",
    "'num_boost_round':2000,\n",
    "'verbose_eval':10,\n",
    "}\n",
    "para = {\n",
    "'learning_rate': 0.1,\n",
    "'max_depth': 7,\n",
    "'min_child_weight': 1,\n",
    "'subsample': 0.8,\n",
    "'colsample_bytree':0.8,\n",
    "'booster':'gbtree',\n",
    "'max_delta_step':1,\n",
    "'objective':'binary:logistic',\n",
    "'nthread':-1\n",
    "}"
   ]
  },
  {
   "cell_type": "code",
   "execution_count": 85,
   "metadata": {
    "scrolled": true
   },
   "outputs": [
    {
     "name": "stdout",
     "output_type": "stream",
     "text": [
      "[0]\ttrain-error:0.0113\ttest-error:0.011874\n",
      "[10]\ttrain-error:0.009404\ttest-error:0.009857\n",
      "[20]\ttrain-error:0.00837\ttest-error:0.008799\n",
      "[30]\ttrain-error:0.007769\ttest-error:0.008273\n",
      "[40]\ttrain-error:0.007319\ttest-error:0.007839\n",
      "[50]\ttrain-error:0.006963\ttest-error:0.007458\n",
      "[60]\ttrain-error:0.006679\ttest-error:0.007018\n",
      "[70]\ttrain-error:0.006515\ttest-error:0.006847\n",
      "[80]\ttrain-error:0.006383\ttest-error:0.006749\n",
      "[90]\ttrain-error:0.006257\ttest-error:0.006663\n",
      "[100]\ttrain-error:0.006137\ttest-error:0.006584\n",
      "[110]\ttrain-error:0.006\ttest-error:0.006499\n",
      "[120]\ttrain-error:0.00589\ttest-error:0.00642\n",
      "[130]\ttrain-error:0.005692\ttest-error:0.006256\n",
      "[140]\ttrain-error:0.005511\ttest-error:0.006124\n",
      "[150]\ttrain-error:0.005424\ttest-error:0.006046\n",
      "[160]\ttrain-error:0.00529\ttest-error:0.005993\n",
      "[170]\ttrain-error:0.005185\ttest-error:0.005921\n",
      "[180]\ttrain-error:0.005088\ttest-error:0.005862\n",
      "[190]\ttrain-error:0.005001\ttest-error:0.005816\n",
      "[200]\ttrain-error:0.00489\ttest-error:0.005724\n",
      "[210]\ttrain-error:0.004744\ttest-error:0.005618\n",
      "[220]\ttrain-error:0.00465\ttest-error:0.005579\n",
      "[230]\ttrain-error:0.004574\ttest-error:0.00552\n",
      "[240]\ttrain-error:0.004477\ttest-error:0.00548\n",
      "[250]\ttrain-error:0.004404\ttest-error:0.005434\n",
      "[260]\ttrain-error:0.004347\ttest-error:0.005428\n",
      "[270]\ttrain-error:0.004273\ttest-error:0.005356\n",
      "[280]\ttrain-error:0.004184\ttest-error:0.005336\n",
      "[290]\ttrain-error:0.004107\ttest-error:0.005224\n",
      "[300]\ttrain-error:0.004034\ttest-error:0.005132\n",
      "[310]\ttrain-error:0.003962\ttest-error:0.005126\n",
      "[320]\ttrain-error:0.003898\ttest-error:0.005093\n",
      "[330]\ttrain-error:0.003821\ttest-error:0.005073\n",
      "[340]\ttrain-error:0.003749\ttest-error:0.005034\n",
      "[350]\ttrain-error:0.003697\ttest-error:0.005034\n",
      "[360]\ttrain-error:0.003615\ttest-error:0.004948\n",
      "[370]\ttrain-error:0.003538\ttest-error:0.004935\n",
      "[380]\ttrain-error:0.003492\ttest-error:0.004942\n",
      "[390]\ttrain-error:0.003455\ttest-error:0.004935\n",
      "[400]\ttrain-error:0.003375\ttest-error:0.004915\n",
      "[410]\ttrain-error:0.003318\ttest-error:0.00485\n",
      "[420]\ttrain-error:0.003252\ttest-error:0.004836\n",
      "[430]\ttrain-error:0.003201\ttest-error:0.004777\n",
      "[440]\ttrain-error:0.003139\ttest-error:0.004797\n",
      "[450]\ttrain-error:0.003052\ttest-error:0.004771\n",
      "[460]\ttrain-error:0.00298\ttest-error:0.004725\n",
      "[470]\ttrain-error:0.002913\ttest-error:0.004712\n",
      "[480]\ttrain-error:0.002865\ttest-error:0.004725\n",
      "[490]\ttrain-error:0.002813\ttest-error:0.004705\n",
      "[500]\ttrain-error:0.002767\ttest-error:0.004646\n",
      "[510]\ttrain-error:0.002713\ttest-error:0.004659\n",
      "[520]\ttrain-error:0.002677\ttest-error:0.004633\n",
      "[530]\ttrain-error:0.002613\ttest-error:0.004639\n",
      "[540]\ttrain-error:0.002577\ttest-error:0.004626\n",
      "[550]\ttrain-error:0.002534\ttest-error:0.00458\n",
      "[560]\ttrain-error:0.002482\ttest-error:0.004547\n",
      "[570]\ttrain-error:0.002426\ttest-error:0.004554\n",
      "[580]\ttrain-error:0.002369\ttest-error:0.004567\n",
      "[590]\ttrain-error:0.002333\ttest-error:0.004521\n",
      "[600]\ttrain-error:0.002293\ttest-error:0.004475\n",
      "[610]\ttrain-error:0.002264\ttest-error:0.004488\n",
      "[620]\ttrain-error:0.002215\ttest-error:0.004442\n",
      "[630]\ttrain-error:0.002173\ttest-error:0.004409\n",
      "[640]\ttrain-error:0.002136\ttest-error:0.00439\n",
      "[650]\ttrain-error:0.002101\ttest-error:0.004363\n",
      "[660]\ttrain-error:0.002069\ttest-error:0.004337\n",
      "[670]\ttrain-error:0.002012\ttest-error:0.004363\n",
      "[680]\ttrain-error:0.001988\ttest-error:0.004376\n",
      "[690]\ttrain-error:0.001951\ttest-error:0.004383\n",
      "[700]\ttrain-error:0.001895\ttest-error:0.00437\n",
      "[710]\ttrain-error:0.001857\ttest-error:0.004344\n",
      "[720]\ttrain-error:0.00183\ttest-error:0.004311\n",
      "[730]\ttrain-error:0.001821\ttest-error:0.004324\n",
      "[740]\ttrain-error:0.001776\ttest-error:0.004278\n",
      "[750]\ttrain-error:0.00175\ttest-error:0.004298\n",
      "[760]\ttrain-error:0.001706\ttest-error:0.004271\n",
      "[770]\ttrain-error:0.001681\ttest-error:0.004284\n",
      "[780]\ttrain-error:0.001641\ttest-error:0.004278\n",
      "[790]\ttrain-error:0.00161\ttest-error:0.004291\n",
      "[800]\ttrain-error:0.001585\ttest-error:0.004298\n",
      "[810]\ttrain-error:0.001551\ttest-error:0.004252\n",
      "[820]\ttrain-error:0.001525\ttest-error:0.004304\n",
      "[830]\ttrain-error:0.001503\ttest-error:0.004304\n",
      "[840]\ttrain-error:0.001474\ttest-error:0.004265\n",
      "[850]\ttrain-error:0.001443\ttest-error:0.004271\n",
      "[860]\ttrain-error:0.001414\ttest-error:0.004284\n",
      "[870]\ttrain-error:0.001387\ttest-error:0.004258\n",
      "[880]\ttrain-error:0.001358\ttest-error:0.004291\n",
      "[890]\ttrain-error:0.001322\ttest-error:0.004258\n",
      "[900]\ttrain-error:0.001293\ttest-error:0.004232\n",
      "[910]\ttrain-error:0.001274\ttest-error:0.004212\n",
      "[920]\ttrain-error:0.001251\ttest-error:0.004199\n",
      "[930]\ttrain-error:0.001217\ttest-error:0.004186\n",
      "[940]\ttrain-error:0.001197\ttest-error:0.004186\n",
      "[950]\ttrain-error:0.001169\ttest-error:0.00416\n",
      "[960]\ttrain-error:0.001162\ttest-error:0.00416\n",
      "[970]\ttrain-error:0.001143\ttest-error:0.00414\n",
      "[980]\ttrain-error:0.001119\ttest-error:0.00412\n",
      "[990]\ttrain-error:0.001105\ttest-error:0.004107\n",
      "[1000]\ttrain-error:0.001076\ttest-error:0.004081\n",
      "[1010]\ttrain-error:0.001057\ttest-error:0.004087\n",
      "[1020]\ttrain-error:0.001028\ttest-error:0.004094\n",
      "[1030]\ttrain-error:0.001009\ttest-error:0.004081\n",
      "[1040]\ttrain-error:0.000996\ttest-error:0.004074\n",
      "[1050]\ttrain-error:0.000972\ttest-error:0.004035\n",
      "[1060]\ttrain-error:0.000953\ttest-error:0.004035\n",
      "[1070]\ttrain-error:0.000936\ttest-error:0.004048\n",
      "[1080]\ttrain-error:0.000916\ttest-error:0.004015\n",
      "[1090]\ttrain-error:0.000891\ttest-error:0.004022\n",
      "[1100]\ttrain-error:0.000877\ttest-error:0.004008\n",
      "[1110]\ttrain-error:0.000858\ttest-error:0.004008\n",
      "[1120]\ttrain-error:0.000829\ttest-error:0.003982\n",
      "[1130]\ttrain-error:0.000811\ttest-error:0.003976\n",
      "[1140]\ttrain-error:0.000791\ttest-error:0.004008\n",
      "[1150]\ttrain-error:0.000781\ttest-error:0.003969\n",
      "[1160]\ttrain-error:0.00076\ttest-error:0.003989\n",
      "[1170]\ttrain-error:0.000744\ttest-error:0.004008\n",
      "[1180]\ttrain-error:0.000726\ttest-error:0.004008\n",
      "[1190]\ttrain-error:0.000714\ttest-error:0.003995\n",
      "[1200]\ttrain-error:0.000705\ttest-error:0.004002\n",
      "[1210]\ttrain-error:0.000682\ttest-error:0.004002\n",
      "[1220]\ttrain-error:0.000668\ttest-error:0.003976\n",
      "[1230]\ttrain-error:0.000639\ttest-error:0.003995\n",
      "[1240]\ttrain-error:0.000629\ttest-error:0.004002\n",
      "[1250]\ttrain-error:0.000613\ttest-error:0.004015\n",
      "[1260]\ttrain-error:0.000597\ttest-error:0.003989\n",
      "[1270]\ttrain-error:0.000579\ttest-error:0.003962\n",
      "[1280]\ttrain-error:0.000572\ttest-error:0.003969\n",
      "[1290]\ttrain-error:0.000557\ttest-error:0.003969\n",
      "[1300]\ttrain-error:0.000542\ttest-error:0.003969\n",
      "[1310]\ttrain-error:0.000529\ttest-error:0.00393\n",
      "[1320]\ttrain-error:0.000516\ttest-error:0.003916\n",
      "[1330]\ttrain-error:0.000508\ttest-error:0.003962\n",
      "[1340]\ttrain-error:0.000489\ttest-error:0.00393\n",
      "[1350]\ttrain-error:0.000474\ttest-error:0.00391\n",
      "[1360]\ttrain-error:0.000469\ttest-error:0.003897\n",
      "[1370]\ttrain-error:0.000453\ttest-error:0.003897\n",
      "[1380]\ttrain-error:0.000451\ttest-error:0.003903\n",
      "[1390]\ttrain-error:0.000435\ttest-error:0.00389\n",
      "[1400]\ttrain-error:0.000425\ttest-error:0.00391\n",
      "[1410]\ttrain-error:0.000413\ttest-error:0.00389\n",
      "[1420]\ttrain-error:0.000405\ttest-error:0.003903\n",
      "[1430]\ttrain-error:0.000394\ttest-error:0.003923\n",
      "[1440]\ttrain-error:0.000383\ttest-error:0.003916\n",
      "[1450]\ttrain-error:0.000373\ttest-error:0.00389\n",
      "[1460]\ttrain-error:0.000365\ttest-error:0.00387\n",
      "[1470]\ttrain-error:0.000358\ttest-error:0.00389\n",
      "[1480]\ttrain-error:0.000348\ttest-error:0.00389\n",
      "[1490]\ttrain-error:0.000338\ttest-error:0.00389\n",
      "[1500]\ttrain-error:0.000328\ttest-error:0.00387\n",
      "[1510]\ttrain-error:0.000323\ttest-error:0.00389\n",
      "[1520]\ttrain-error:0.00031\ttest-error:0.003857\n",
      "[1530]\ttrain-error:0.000304\ttest-error:0.003838\n",
      "[1540]\ttrain-error:0.000297\ttest-error:0.003831\n",
      "[1550]\ttrain-error:0.000292\ttest-error:0.003798\n",
      "[1560]\ttrain-error:0.000278\ttest-error:0.003831\n",
      "[1570]\ttrain-error:0.000271\ttest-error:0.003818\n",
      "[1580]\ttrain-error:0.000259\ttest-error:0.003818\n",
      "[1590]\ttrain-error:0.000254\ttest-error:0.003818\n",
      "[1600]\ttrain-error:0.000252\ttest-error:0.003818\n",
      "[1610]\ttrain-error:0.000239\ttest-error:0.003824\n",
      "[1620]\ttrain-error:0.000231\ttest-error:0.003824\n",
      "[1630]\ttrain-error:0.000225\ttest-error:0.003805\n",
      "[1640]\ttrain-error:0.000223\ttest-error:0.003805\n",
      "[1650]\ttrain-error:0.000218\ttest-error:0.003811\n",
      "[1660]\ttrain-error:0.000212\ttest-error:0.003792\n",
      "[1670]\ttrain-error:0.000207\ttest-error:0.003818\n",
      "[1680]\ttrain-error:0.0002\ttest-error:0.003785\n",
      "[1690]\ttrain-error:0.000195\ttest-error:0.003772\n",
      "[1700]\ttrain-error:0.00019\ttest-error:0.003785\n",
      "[1710]\ttrain-error:0.000186\ttest-error:0.003785\n",
      "[1720]\ttrain-error:0.00018\ttest-error:0.003798\n",
      "[1730]\ttrain-error:0.000178\ttest-error:0.003805\n"
     ]
    },
    {
     "name": "stdout",
     "output_type": "stream",
     "text": [
      "[1740]\ttrain-error:0.000169\ttest-error:0.003818\n",
      "[1750]\ttrain-error:0.000161\ttest-error:0.003811\n",
      "[1760]\ttrain-error:0.000153\ttest-error:0.003785\n",
      "[1770]\ttrain-error:0.00015\ttest-error:0.003792\n",
      "[1780]\ttrain-error:0.000143\ttest-error:0.003792\n",
      "[1790]\ttrain-error:0.000139\ttest-error:0.003798\n",
      "[1800]\ttrain-error:0.000133\ttest-error:0.003805\n",
      "[1810]\ttrain-error:0.000133\ttest-error:0.003778\n",
      "[1820]\ttrain-error:0.000131\ttest-error:0.003818\n",
      "[1830]\ttrain-error:0.000129\ttest-error:0.003811\n",
      "[1840]\ttrain-error:0.000125\ttest-error:0.003778\n",
      "[1850]\ttrain-error:0.000121\ttest-error:0.003818\n",
      "[1860]\ttrain-error:0.000114\ttest-error:0.003811\n",
      "[1870]\ttrain-error:0.000115\ttest-error:0.003805\n",
      "[1880]\ttrain-error:0.000111\ttest-error:0.003811\n",
      "[1890]\ttrain-error:0.000109\ttest-error:0.003798\n",
      "[1900]\ttrain-error:0.000105\ttest-error:0.003778\n",
      "[1910]\ttrain-error:0.000104\ttest-error:0.003765\n",
      "[1920]\ttrain-error:0.000101\ttest-error:0.003778\n",
      "[1930]\ttrain-error:9.9e-05\ttest-error:0.003772\n",
      "[1940]\ttrain-error:9.9e-05\ttest-error:0.003759\n",
      "[1950]\ttrain-error:9.6e-05\ttest-error:0.003772\n",
      "[1960]\ttrain-error:9.1e-05\ttest-error:0.003765\n",
      "[1970]\ttrain-error:9.1e-05\ttest-error:0.003746\n",
      "[1980]\ttrain-error:9e-05\ttest-error:0.003765\n",
      "[1990]\ttrain-error:8e-05\ttest-error:0.003772\n",
      "[1999]\ttrain-error:7.9e-05\ttest-error:0.003772\n"
     ]
    }
   ],
   "source": [
    "model_jmda = xgb.train(dtrain=xgb_train,params=para,**fit_para,evals=[(xgb_train,'train'),(xgb_val,'test')])"
   ]
  },
  {
   "cell_type": "code",
   "execution_count": null,
   "metadata": {},
   "outputs": [],
   "source": [
    "importance = pd.Series(model_jmda.get_fscore()).sort_values(ascending=False)\n",
    "plt.barh(y=importance.index,width=importance.values)"
   ]
  },
  {
   "cell_type": "code",
   "execution_count": 111,
   "metadata": {},
   "outputs": [],
   "source": [
    "#submit\n",
    "xgb_pre = xgb.DMatrix(test_data)\n",
    "ans = model_jmda.predict(xgb_pre)\n",
    "answer_table = pd.read_csv('C:/Users/User/Downloads/kaggle/credit card/submission_test.csv')\n",
    "answer_table['fraud_ind'] = np.where(ans>0.21,1,0).astype('int8')\n",
    "answer_table.to_csv('C:/Users/User/Downloads/kaggle/credit card/answer_jmda.csv',index=False)"
   ]
  },
  {
   "cell_type": "markdown",
   "metadata": {
    "colab_type": "text",
    "id": "buhe1TzH8UNE"
   },
   "source": [
    "# Metric"
   ]
  },
  {
   "cell_type": "code",
   "execution_count": 21,
   "metadata": {
    "colab": {},
    "colab_type": "code",
    "id": "9sV1LRXB8UNV"
   },
   "outputs": [],
   "source": [
    "from sklearn.metrics import confusion_matrix"
   ]
  },
  {
   "cell_type": "code",
   "execution_count": 99,
   "metadata": {},
   "outputs": [],
   "source": [
    "def scorer(y_true,y_pred):\n",
    "    matrix = confusion_matrix(y_true,y_pred)\n",
    "    accuracy = np.round((matrix[1,1]+matrix[0,0])/(matrix.sum()),4)\n",
    "    precision = np.round(matrix[1,1]/(matrix[1,1]+matrix[1,0]),4)\n",
    "    recall = np.round(matrix[1,1]/(matrix[1,1]+matrix[0,1]),4)\n",
    "    f1 = np.round(2/(1/precision+1/recall),4)\n",
    "    print('accuracy:[{}] , precision:[{}] , recall:[{}] , f1:[{}]'.format(accuracy,precision,recall,f1))\n",
    "    sns.heatmap(matrix,cmap='Blues',annot=True,fmt='d')"
   ]
  },
  {
   "cell_type": "code",
   "execution_count": 86,
   "metadata": {
    "colab": {},
    "colab_type": "code",
    "id": "UsiL7XlK8UNX"
   },
   "outputs": [],
   "source": [
    "xgb_test = xgb.DMatrix(x_test)\n",
    "y_pred = model_jmda.predict(xgb_test)"
   ]
  },
  {
   "cell_type": "code",
   "execution_count": 109,
   "metadata": {},
   "outputs": [],
   "source": [
    "y_pred1 = np.where(y_pred>0.21,1,0)"
   ]
  },
  {
   "cell_type": "code",
   "execution_count": 110,
   "metadata": {},
   "outputs": [
    {
     "name": "stdout",
     "output_type": "stream",
     "text": [
      "accuracy:[0.9961] , precision:[0.8579] , recall:[0.8579] , f1:[0.8579]\n"
     ]
    },
    {
     "data": {
      "image/png": "[encoded data removed]",
      "text/plain": [
       "<Figure size 432x288 with 2 Axes>"
      ]
     },
     "metadata": {
      "needs_background": "light"
     },
     "output_type": "display_data"
    }
   ],
   "source": [
    "scorer(y_test,y_pred1)"
   ]
  }
 ],
 "metadata": {
  "accelerator": "GPU",
  "colab": {
   "collapsed_sections": [
    "LA_KqVrM8UM0",
    "buhe1TzH8UNE"
   ],
   "machine_shape": "hm",
   "name": "creadit_card預處理版.ipynb",
   "provenance": []
  },
  "kernelspec": {
   "display_name": "Python 3",
   "language": "python",
   "name": "python3"
  },
  "language_info": {
   "codemirror_mode": {
    "name": "ipython",
    "version": 3
   },
   "file_extension": ".py",
   "mimetype": "text/x-python",
   "name": "python",
   "nbconvert_exporter": "python",
   "pygments_lexer": "ipython3",
   "version": "3.7.3"
  }
 },
 "nbformat": 4,
 "nbformat_minor": 1
}
