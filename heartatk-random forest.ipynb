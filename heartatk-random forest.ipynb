{
 "cells": [
  {
   "cell_type": "code",
   "execution_count": 73,
   "metadata": {},
   "outputs": [],
   "source": [
    "import numpy as np\n",
    "import pandas as pd\n",
    "import matplotlib.pyplot as plt\n",
    "import seaborn as sns\n",
    "from sklearn.preprocessing import OneHotEncoder,StandardScaler\n",
    "from sklearn.ensemble import RandomForestClassifier\n",
    "from sklearn.pipeline import Pipeline\n",
    "from sklearn.model_selection import train_test_split,GridSearchCV\n",
    "from sklearn.decomposition import PCA\n",
    "from sklearn.metrics import confusion_matrix\n",
    "%matplotlib inline"
   ]
  },
  {
   "cell_type": "markdown",
   "metadata": {},
   "source": [
    "# 1.import data"
   ]
  },
  {
   "cell_type": "code",
   "execution_count": 2,
   "metadata": {},
   "outputs": [],
   "source": [
    "#dataの読み込み\n",
    "data = pd.read_csv(r'C:\\Users\\User\\Downloads\\kaggle\\heart attack\\heart.csv')"
   ]
  },
  {
   "cell_type": "code",
   "execution_count": 3,
   "metadata": {},
   "outputs": [
    {
     "data": {
      "text/html": [
       "<div>\n",
       "<style scoped>\n",
       "    .dataframe tbody tr th:only-of-type {\n",
       "        vertical-align: middle;\n",
       "    }\n",
       "\n",
       "    .dataframe tbody tr th {\n",
       "        vertical-align: top;\n",
       "    }\n",
       "\n",
       "    .dataframe thead th {\n",
       "        text-align: right;\n",
       "    }\n",
       "</style>\n",
       "<table border=\"1\" class=\"dataframe\">\n",
       "  <thead>\n",
       "    <tr style=\"text-align: right;\">\n",
       "      <th></th>\n",
       "      <th>age</th>\n",
       "      <th>sex</th>\n",
       "      <th>cp</th>\n",
       "      <th>trestbps</th>\n",
       "      <th>chol</th>\n",
       "      <th>fbs</th>\n",
       "      <th>restecg</th>\n",
       "      <th>thalach</th>\n",
       "      <th>exang</th>\n",
       "      <th>oldpeak</th>\n",
       "      <th>slope</th>\n",
       "      <th>ca</th>\n",
       "      <th>thal</th>\n",
       "      <th>target</th>\n",
       "    </tr>\n",
       "  </thead>\n",
       "  <tbody>\n",
       "    <tr>\n",
       "      <th>0</th>\n",
       "      <td>63</td>\n",
       "      <td>1</td>\n",
       "      <td>3</td>\n",
       "      <td>145</td>\n",
       "      <td>233</td>\n",
       "      <td>1</td>\n",
       "      <td>0</td>\n",
       "      <td>150</td>\n",
       "      <td>0</td>\n",
       "      <td>2.3</td>\n",
       "      <td>0</td>\n",
       "      <td>0</td>\n",
       "      <td>1</td>\n",
       "      <td>1</td>\n",
       "    </tr>\n",
       "    <tr>\n",
       "      <th>1</th>\n",
       "      <td>37</td>\n",
       "      <td>1</td>\n",
       "      <td>2</td>\n",
       "      <td>130</td>\n",
       "      <td>250</td>\n",
       "      <td>0</td>\n",
       "      <td>1</td>\n",
       "      <td>187</td>\n",
       "      <td>0</td>\n",
       "      <td>3.5</td>\n",
       "      <td>0</td>\n",
       "      <td>0</td>\n",
       "      <td>2</td>\n",
       "      <td>1</td>\n",
       "    </tr>\n",
       "    <tr>\n",
       "      <th>2</th>\n",
       "      <td>41</td>\n",
       "      <td>0</td>\n",
       "      <td>1</td>\n",
       "      <td>130</td>\n",
       "      <td>204</td>\n",
       "      <td>0</td>\n",
       "      <td>0</td>\n",
       "      <td>172</td>\n",
       "      <td>0</td>\n",
       "      <td>1.4</td>\n",
       "      <td>2</td>\n",
       "      <td>0</td>\n",
       "      <td>2</td>\n",
       "      <td>1</td>\n",
       "    </tr>\n",
       "    <tr>\n",
       "      <th>3</th>\n",
       "      <td>56</td>\n",
       "      <td>1</td>\n",
       "      <td>1</td>\n",
       "      <td>120</td>\n",
       "      <td>236</td>\n",
       "      <td>0</td>\n",
       "      <td>1</td>\n",
       "      <td>178</td>\n",
       "      <td>0</td>\n",
       "      <td>0.8</td>\n",
       "      <td>2</td>\n",
       "      <td>0</td>\n",
       "      <td>2</td>\n",
       "      <td>1</td>\n",
       "    </tr>\n",
       "    <tr>\n",
       "      <th>4</th>\n",
       "      <td>57</td>\n",
       "      <td>0</td>\n",
       "      <td>0</td>\n",
       "      <td>120</td>\n",
       "      <td>354</td>\n",
       "      <td>0</td>\n",
       "      <td>1</td>\n",
       "      <td>163</td>\n",
       "      <td>1</td>\n",
       "      <td>0.6</td>\n",
       "      <td>2</td>\n",
       "      <td>0</td>\n",
       "      <td>2</td>\n",
       "      <td>1</td>\n",
       "    </tr>\n",
       "  </tbody>\n",
       "</table>\n",
       "</div>"
      ],
      "text/plain": [
       "   age  sex  cp  trestbps  chol  fbs  restecg  thalach  exang  oldpeak  slope  \\\n",
       "0   63    1   3       145   233    1        0      150      0      2.3      0   \n",
       "1   37    1   2       130   250    0        1      187      0      3.5      0   \n",
       "2   41    0   1       130   204    0        0      172      0      1.4      2   \n",
       "3   56    1   1       120   236    0        1      178      0      0.8      2   \n",
       "4   57    0   0       120   354    0        1      163      1      0.6      2   \n",
       "\n",
       "   ca  thal  target  \n",
       "0   0     1       1  \n",
       "1   0     2       1  \n",
       "2   0     2       1  \n",
       "3   0     2       1  \n",
       "4   0     2       1  "
      ]
     },
     "execution_count": 3,
     "metadata": {},
     "output_type": "execute_result"
    }
   ],
   "source": [
    "data.head()"
   ]
  },
  {
   "cell_type": "markdown",
   "metadata": {},
   "source": [
    "# 2.preprocessing"
   ]
  },
  {
   "cell_type": "code",
   "execution_count": 4,
   "metadata": {},
   "outputs": [],
   "source": [
    "#大きさとは関係ない値をonehotに変える\n",
    "onehot_list = ['cp','restecg','slope','ca','thal']\n",
    "data_onehot_list = data[onehot_list]\n",
    "data_rest = data.drop(onehot_list,axis=1)"
   ]
  },
  {
   "cell_type": "code",
   "execution_count": 5,
   "metadata": {},
   "outputs": [
    {
     "name": "stderr",
     "output_type": "stream",
     "text": [
      "C:\\Users\\User\\Anaconda3\\lib\\site-packages\\sklearn\\preprocessing\\_encoders.py:415: FutureWarning: The handling of integer data will change in version 0.22. Currently, the categories are determined based on the range [0, max(values)], while in the future they will be determined based on the unique values.\n",
      "If you want the future behaviour and silence this warning, you can specify \"categories='auto'\".\n",
      "In case you used a LabelEncoder before this OneHotEncoder to convert the categories to integers, then you can now use the OneHotEncoder directly.\n",
      "  warnings.warn(msg, FutureWarning)\n"
     ]
    }
   ],
   "source": [
    "#onehot columnnに名付け\n",
    "column_name = [['cp{}'.format(i) for i in range(data.cp.max()+1)],\n",
    "               ['restecg{}'.format(i) for i in range(data.restecg.max()+1)],\n",
    "               ['slope{}'.format(i) for i in range(data.slope.max()+1)],\n",
    "               ['ca{}'.format(i) for i in range(data.ca.max()+1)],\n",
    "               ['thal{}'.format(i) for i in range(data.thal.max()+1)]]\n",
    "column_name = np.concatenate(column_name)\n",
    "data_onehot = pd.DataFrame(OneHotEncoder().fit_transform(data_onehot_list).toarray(),columns=column_name)"
   ]
  },
  {
   "cell_type": "code",
   "execution_count": 7,
   "metadata": {},
   "outputs": [],
   "source": [
    "#列をくっつけあう\n",
    "datax = data_rest.drop('target',axis=1)\n",
    "datay = data_rest.target\n",
    "datax2 = pd.concat([datax,data_onehot],axis=1)"
   ]
  },
  {
   "cell_type": "code",
   "execution_count": 36,
   "metadata": {},
   "outputs": [],
   "source": [
    "#test/trainに分ける\n",
    "x_train,x_test,y_train,y_test = train_test_split(datax2,datay,test_size=0.3,random_state=0)"
   ]
  },
  {
   "cell_type": "markdown",
   "metadata": {},
   "source": [
    "# 3.create model"
   ]
  },
  {
   "cell_type": "code",
   "execution_count": 193,
   "metadata": {},
   "outputs": [],
   "source": [
    "#gridsearchとpipline同時に使えないので、gridを作る\n",
    "x=np.arange(30,60)\n",
    "y=np.arange(20,40)\n",
    "X,Y = np.meshgrid(x,y)\n",
    "X=np.concatenate(X)\n",
    "Y=np.concatenate(Y)"
   ]
  },
  {
   "cell_type": "code",
   "execution_count": 213,
   "metadata": {},
   "outputs": [
    {
     "name": "stdout",
     "output_type": "stream",
     "text": [
      "n_estimator:36 , max_depth:24 , accuracy:0.8901098901098901\n"
     ]
    }
   ],
   "source": [
    "#try and error:\n",
    "for i,j in zip(X,Y):\n",
    "    pl = Pipeline([('st',StandardScaler()),\n",
    "                    ('pca',PCA(n_components=0.99)),\n",
    "                    ('rf',RandomForestClassifier(n_estimators=i,max_depth=j))]\n",
    "        )\n",
    "    pl.fit(x_train,y_train)\n",
    "    score = pl.score(x_test,y_test)\n",
    "    if score > 0.88:\n",
    "        print('n_estimator:{} , max_depth:{} , accuracy:{}'.format(i,j,score))\n",
    "        break"
   ]
  },
  {
   "cell_type": "code",
   "execution_count": 214,
   "metadata": {},
   "outputs": [
    {
     "data": {
      "text/plain": [
       "0.8901098901098901"
      ]
     },
     "execution_count": 214,
     "metadata": {},
     "output_type": "execute_result"
    }
   ],
   "source": [
    "pl.score(x_test,y_test)"
   ]
  },
  {
   "cell_type": "markdown",
   "metadata": {},
   "source": [
    "# 4.metrics"
   ]
  },
  {
   "cell_type": "code",
   "execution_count": 268,
   "metadata": {},
   "outputs": [],
   "source": [
    "def scorer(x,y,classifier):\n",
    "    y_predict = np.array(classifier.predict(x))\n",
    "    #判断標準\n",
    "    matrix = confusion_matrix(y,y_predict).T\n",
    "    accuracy = np.round((matrix[1,1]+matrix[0,0])/(matrix.sum()),3)\n",
    "    precision = np.round(matrix[1,1]/(matrix[1,1]+matrix[1,0]),3)\n",
    "    recall = np.round(matrix[1,1]/(matrix[1,1]+matrix[0,1]),3)\n",
    "    f1 = np.round(2/(1/precision+1/recall),3)\n",
    "    print('accuracy:[{}] , precision:[{}] , recall:[{}] , f1:[{}]'.format(accuracy,precision,recall,f1))\n",
    "    #図の作成\n",
    "    sns.heatmap(matrix,cmap='Blues',annot=True)\n",
    "    plt.xlabel('actual');plt.ylabel('predict')\n",
    "    plt.title('confusion_matrix')"
   ]
  },
  {
   "cell_type": "code",
   "execution_count": 330,
   "metadata": {},
   "outputs": [],
   "source": [
    "def roc_maker(x,y,classifier):\n",
    "    #ROCの計算\n",
    "    y_predict = np.array(classifier.predict(x))\n",
    "    matrix = confusion_matrix(y,y_predict).T\n",
    "    TPR_select = matrix[1,1]/(matrix[1,1]+matrix[0,1])\n",
    "    FPR_select = matrix[1,0]/(matrix[1,0]+matrix[0,0])\n",
    "    FPR_list = []\n",
    "    TPR_list = []\n",
    "    df = pd.DataFrame(classifier.predict_proba(x))\n",
    "    for i in np.linspace(0,1,1000):\n",
    "        def threshold(a):\n",
    "            if a >= i:\n",
    "                return 1\n",
    "            else:\n",
    "                return 0\n",
    "        df[2] = df[1].apply(threshold)\n",
    "        roc_matrix = confusion_matrix(y,df[2].values).T\n",
    "        TPR = roc_matrix[1,1]/(roc_matrix[1,1]+roc_matrix[0,1])\n",
    "        FPR = roc_matrix[1,0]/(roc_matrix[1,0]+roc_matrix[0,0])\n",
    "        FPR_list.append(FPR)\n",
    "        TPR_list.append(TPR)\n",
    "    #AUCの計算\n",
    "    AUC = np.round(np.absolute(np.trapz(TPR_list,FPR_list,axis=0)),3)\n",
    "    print('AUC of classifier is : {}'.format(AUC))\n",
    "    #図の作成\n",
    "    plt.plot(FPR_list,TPR_list)\n",
    "    plt.scatter(FPR_select,TPR_select,color='r')\n",
    "    plt.xlim(-0.01,1);plt.ylim(0,1)\n",
    "    plt.xlabel('FPR');plt.ylabel('TPR')\n",
    "    plt.grid()\n",
    "    plt.title('ROC curve')"
   ]
  },
  {
   "cell_type": "code",
   "execution_count": 269,
   "metadata": {},
   "outputs": [
    {
     "name": "stdout",
     "output_type": "stream",
     "text": [
      "accuracy:[0.89] , precision:[0.878] , recall:[0.915] , f1:[0.896]\n"
     ]
    },
    {
     "data": {
      "image/png": "[encoded data removed]",
      "text/plain": [
       "<Figure size 432x288 with 2 Axes>"
      ]
     },
     "metadata": {
      "needs_background": "light"
     },
     "output_type": "display_data"
    }
   ],
   "source": [
    "scorer(x_test,y_test,pl)"
   ]
  },
  {
   "cell_type": "code",
   "execution_count": 331,
   "metadata": {},
   "outputs": [
    {
     "name": "stdout",
     "output_type": "stream",
     "text": [
      "AUC of classifier is : 0.917\n"
     ]
    },
    {
     "data": {
      "image/png": "[encoded data removed]",
      "text/plain": [
       "<Figure size 432x288 with 1 Axes>"
      ]
     },
     "metadata": {
      "needs_background": "light"
     },
     "output_type": "display_data"
    }
   ],
   "source": [
    "roc_maker(x_test,y_test,pl)"
   ]
  },
  {
   "cell_type": "markdown",
   "metadata": {},
   "source": [
    "# 5.importance"
   ]
  },
  {
   "cell_type": "code",
   "execution_count": 13,
   "metadata": {},
   "outputs": [],
   "source": [
    "importance = pd.Series(data=grid.best_estimator_.feature_importances_,index=datax2.columns)\n",
    "importance.sort_values(ascending=False,inplace=True)"
   ]
  },
  {
   "cell_type": "code",
   "execution_count": 27,
   "metadata": {},
   "outputs": [
    {
     "data": {
      "text/plain": [
       "Text(0.5, 1.0, 'importance')"
      ]
     },
     "execution_count": 27,
     "metadata": {},
     "output_type": "execute_result"
    },
    {
     "data": {
      "image/png": "[encoded data removed]",
      "text/plain": [
       "<Figure size 576x432 with 1 Axes>"
      ]
     },
     "metadata": {
      "needs_background": "light"
     },
     "output_type": "display_data"
    }
   ],
   "source": [
    "plt.figure(figsize=(8,6))\n",
    "plt.barh(importance.index,importance.values)\n",
    "plt.gca().invert_yaxis()\n",
    "plt.title('importance')"
   ]
  }
 ],
 "metadata": {
  "kernelspec": {
   "display_name": "Python 3",
   "language": "python",
   "name": "python3"
  },
  "language_info": {
   "codemirror_mode": {
    "name": "ipython",
    "version": 3
   },
   "file_extension": ".py",
   "mimetype": "text/x-python",
   "name": "python",
   "nbconvert_exporter": "python",
   "pygments_lexer": "ipython3",
   "version": "3.7.3"
  }
 },
 "nbformat": 4,
 "nbformat_minor": 2
}
