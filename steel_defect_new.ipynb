{
 "cells": [
  {
   "cell_type": "code",
   "execution_count": 0,
   "metadata": {
    "colab": {},
    "colab_type": "code",
    "id": "qQOOI-wDLCiT"
   },
   "outputs": [],
   "source": [
    "import numpy as np\n",
    "import pandas as pd\n",
    "from matplotlib import pyplot as plt\n",
    "import cv2\n",
    "import glob\n",
    "from sklearn.model_selection import train_test_split\n",
    "%matplotlib inline"
   ]
  },
  {
   "cell_type": "code",
   "execution_count": 3,
   "metadata": {
    "colab": {
     "base_uri": "https://localhost:8080/",
     "height": 122
    },
    "colab_type": "code",
    "id": "HlBYwXDoLL2v",
    "outputId": "fb5af943-1fa8-421e-f22a-283d354f6558"
   },
   "outputs": [
    {
     "name": "stdout",
     "output_type": "stream",
     "text": [
      "Go to this URL in a browser: https://accounts.google.com/o/oauth2/auth?client_id=947318989803-6bn6qk8qdgf4n4g3pfee6491hc0brc4i.apps.googleusercontent.com&redirect_uri=urn%3aietf%3awg%3aoauth%3a2.0%3aoob&response_type=code&scope=email%20https%3a%2f%2fwww.googleapis.com%2fauth%2fdocs.test%20https%3a%2f%2fwww.googleapis.com%2fauth%2fdrive%20https%3a%2f%2fwww.googleapis.com%2fauth%2fdrive.photos.readonly%20https%3a%2f%2fwww.googleapis.com%2fauth%2fpeopleapi.readonly\n",
      "\n",
      "Enter your authorization code:\n",
      "··········\n",
      "Mounted at /content/drive\n"
     ]
    }
   ],
   "source": [
    "from google.colab import drive\n",
    "drive.mount('/content/drive')"
   ]
  },
  {
   "cell_type": "markdown",
   "metadata": {
    "colab_type": "text",
    "id": "Fvz4SWBpLCiX"
   },
   "source": [
    "# import data"
   ]
  },
  {
   "cell_type": "code",
   "execution_count": 0,
   "metadata": {
    "colab": {},
    "colab_type": "code",
    "id": "h7Wmf3C7LCiY"
   },
   "outputs": [],
   "source": [
    "#grab all jpg file in folder(train_images)\n",
    "img = glob.glob('/content/drive/Shared drives/python/kaggle/steel_defect/train_images/*.jpg')\n",
    "df_img = pd.DataFrame(img);\n",
    "#read train.csv\n",
    "df = pd.read_csv('/content/drive/Shared drives/python/kaggle/steel_defect/train.csv')"
   ]
  },
  {
   "cell_type": "code",
   "execution_count": 9,
   "metadata": {
    "colab": {
     "base_uri": "https://localhost:8080/",
     "height": 204
    },
    "colab_type": "code",
    "id": "gfkpN8abLCia",
    "outputId": "48031693-9be2-4475-c6be-25a40a5cfea1"
   },
   "outputs": [
    {
     "data": {
      "text/html": [
       "<div>\n",
       "<style scoped>\n",
       "    .dataframe tbody tr th:only-of-type {\n",
       "        vertical-align: middle;\n",
       "    }\n",
       "\n",
       "    .dataframe tbody tr th {\n",
       "        vertical-align: top;\n",
       "    }\n",
       "\n",
       "    .dataframe thead th {\n",
       "        text-align: right;\n",
       "    }\n",
       "</style>\n",
       "<table border=\"1\" class=\"dataframe\">\n",
       "  <thead>\n",
       "    <tr style=\"text-align: right;\">\n",
       "      <th></th>\n",
       "      <th>ImageId_ClassId</th>\n",
       "      <th>EncodedPixels</th>\n",
       "    </tr>\n",
       "  </thead>\n",
       "  <tbody>\n",
       "    <tr>\n",
       "      <th>0</th>\n",
       "      <td>0002cc93b.jpg_1</td>\n",
       "      <td>29102 12 29346 24 29602 24 29858 24 30114 24 3...</td>\n",
       "    </tr>\n",
       "    <tr>\n",
       "      <th>1</th>\n",
       "      <td>0002cc93b.jpg_2</td>\n",
       "      <td>NaN</td>\n",
       "    </tr>\n",
       "    <tr>\n",
       "      <th>2</th>\n",
       "      <td>0002cc93b.jpg_3</td>\n",
       "      <td>NaN</td>\n",
       "    </tr>\n",
       "    <tr>\n",
       "      <th>3</th>\n",
       "      <td>0002cc93b.jpg_4</td>\n",
       "      <td>NaN</td>\n",
       "    </tr>\n",
       "    <tr>\n",
       "      <th>4</th>\n",
       "      <td>00031f466.jpg_1</td>\n",
       "      <td>NaN</td>\n",
       "    </tr>\n",
       "  </tbody>\n",
       "</table>\n",
       "</div>"
      ],
      "text/plain": [
       "   ImageId_ClassId                                      EncodedPixels\n",
       "0  0002cc93b.jpg_1  29102 12 29346 24 29602 24 29858 24 30114 24 3...\n",
       "1  0002cc93b.jpg_2                                                NaN\n",
       "2  0002cc93b.jpg_3                                                NaN\n",
       "3  0002cc93b.jpg_4                                                NaN\n",
       "4  00031f466.jpg_1                                                NaN"
      ]
     },
     "execution_count": 9,
     "metadata": {
      "tags": []
     },
     "output_type": "execute_result"
    }
   ],
   "source": [
    "df.head(5)"
   ]
  },
  {
   "cell_type": "code",
   "execution_count": 10,
   "metadata": {
    "colab": {
     "base_uri": "https://localhost:8080/",
     "height": 204
    },
    "colab_type": "code",
    "id": "kcawt62eLCid",
    "outputId": "fec484f8-d3eb-46f2-bbab-bbdc585e9d0d"
   },
   "outputs": [
    {
     "data": {
      "text/html": [
       "<div>\n",
       "<style scoped>\n",
       "    .dataframe tbody tr th:only-of-type {\n",
       "        vertical-align: middle;\n",
       "    }\n",
       "\n",
       "    .dataframe tbody tr th {\n",
       "        vertical-align: top;\n",
       "    }\n",
       "\n",
       "    .dataframe thead th {\n",
       "        text-align: right;\n",
       "    }\n",
       "</style>\n",
       "<table border=\"1\" class=\"dataframe\">\n",
       "  <thead>\n",
       "    <tr style=\"text-align: right;\">\n",
       "      <th></th>\n",
       "      <th>0</th>\n",
       "    </tr>\n",
       "  </thead>\n",
       "  <tbody>\n",
       "    <tr>\n",
       "      <th>0</th>\n",
       "      <td>/content/drive/Shared drives/python/kaggle/ste...</td>\n",
       "    </tr>\n",
       "    <tr>\n",
       "      <th>1</th>\n",
       "      <td>/content/drive/Shared drives/python/kaggle/ste...</td>\n",
       "    </tr>\n",
       "    <tr>\n",
       "      <th>2</th>\n",
       "      <td>/content/drive/Shared drives/python/kaggle/ste...</td>\n",
       "    </tr>\n",
       "    <tr>\n",
       "      <th>3</th>\n",
       "      <td>/content/drive/Shared drives/python/kaggle/ste...</td>\n",
       "    </tr>\n",
       "    <tr>\n",
       "      <th>4</th>\n",
       "      <td>/content/drive/Shared drives/python/kaggle/ste...</td>\n",
       "    </tr>\n",
       "  </tbody>\n",
       "</table>\n",
       "</div>"
      ],
      "text/plain": [
       "                                                   0\n",
       "0  /content/drive/Shared drives/python/kaggle/ste...\n",
       "1  /content/drive/Shared drives/python/kaggle/ste...\n",
       "2  /content/drive/Shared drives/python/kaggle/ste...\n",
       "3  /content/drive/Shared drives/python/kaggle/ste...\n",
       "4  /content/drive/Shared drives/python/kaggle/ste..."
      ]
     },
     "execution_count": 10,
     "metadata": {
      "tags": []
     },
     "output_type": "execute_result"
    }
   ],
   "source": [
    "df_img.head()"
   ]
  },
  {
   "cell_type": "markdown",
   "metadata": {
    "colab_type": "text",
    "id": "KN-atBXYLCif"
   },
   "source": [
    "# preprocessing"
   ]
  },
  {
   "cell_type": "code",
   "execution_count": 0,
   "metadata": {
    "colab": {},
    "colab_type": "code",
    "id": "Du3hVzzGLCif"
   },
   "outputs": [],
   "source": [
    "#replace no-mask as 0\n",
    "df = df.fillna(0)\n",
    "#spilt class from ImageId_ClassId\n",
    "df['class'] = df.ImageId_ClassId.map(lambda x : x.split('_')[1]).astype('int8')\n",
    "#spilt image name from ImageId_ClassId\n",
    "df['image'] = df.ImageId_ClassId.map(lambda x : x.split('_')[0])\n",
    "df.drop('ImageId_ClassId',axis=1,inplace=True)"
   ]
  },
  {
   "cell_type": "code",
   "execution_count": 0,
   "metadata": {
    "colab": {},
    "colab_type": "code",
    "id": "YQv_XHAQLCih"
   },
   "outputs": [],
   "source": [
    "#aggregate masks per image\n",
    "df_aggre = pd.DataFrame([])\n",
    "df_aggre['mask'] = np.split(df['EncodedPixels'].values,len(df)/4)\n",
    "df_aggre['image'] = df.image.unique()"
   ]
  },
  {
   "cell_type": "code",
   "execution_count": 0,
   "metadata": {
    "colab": {},
    "colab_type": "code",
    "id": "JKnlKRT8LCin"
   },
   "outputs": [],
   "source": [
    "#merge df_image to df_aggre by image name\n",
    "df_img['image'] = df_img[0].map(lambda x : x.split('/')[-1])\n",
    "df_img = df_img.rename({0:'url'},axis=1)\n",
    "df_aggre = df_aggre.merge(df_img)"
   ]
  },
  {
   "cell_type": "code",
   "execution_count": 14,
   "metadata": {
    "colab": {
     "base_uri": "https://localhost:8080/",
     "height": 204
    },
    "colab_type": "code",
    "id": "kAcefyXQLCio",
    "outputId": "2763d725-3770-44d9-f07f-4c1eac5c43aa"
   },
   "outputs": [
    {
     "data": {
      "text/html": [
       "<div>\n",
       "<style scoped>\n",
       "    .dataframe tbody tr th:only-of-type {\n",
       "        vertical-align: middle;\n",
       "    }\n",
       "\n",
       "    .dataframe tbody tr th {\n",
       "        vertical-align: top;\n",
       "    }\n",
       "\n",
       "    .dataframe thead th {\n",
       "        text-align: right;\n",
       "    }\n",
       "</style>\n",
       "<table border=\"1\" class=\"dataframe\">\n",
       "  <thead>\n",
       "    <tr style=\"text-align: right;\">\n",
       "      <th></th>\n",
       "      <th>mask</th>\n",
       "      <th>image</th>\n",
       "      <th>url</th>\n",
       "    </tr>\n",
       "  </thead>\n",
       "  <tbody>\n",
       "    <tr>\n",
       "      <th>0</th>\n",
       "      <td>[29102 12 29346 24 29602 24 29858 24 30114 24 ...</td>\n",
       "      <td>0002cc93b.jpg</td>\n",
       "      <td>/content/drive/Shared drives/python/kaggle/ste...</td>\n",
       "    </tr>\n",
       "    <tr>\n",
       "      <th>1</th>\n",
       "      <td>[0, 0, 0, 0]</td>\n",
       "      <td>00031f466.jpg</td>\n",
       "      <td>/content/drive/Shared drives/python/kaggle/ste...</td>\n",
       "    </tr>\n",
       "    <tr>\n",
       "      <th>2</th>\n",
       "      <td>[0, 0, 0, 0]</td>\n",
       "      <td>000418bfc.jpg</td>\n",
       "      <td>/content/drive/Shared drives/python/kaggle/ste...</td>\n",
       "    </tr>\n",
       "    <tr>\n",
       "      <th>3</th>\n",
       "      <td>[0, 0, 0, 0]</td>\n",
       "      <td>000789191.jpg</td>\n",
       "      <td>/content/drive/Shared drives/python/kaggle/ste...</td>\n",
       "    </tr>\n",
       "    <tr>\n",
       "      <th>4</th>\n",
       "      <td>[0, 0, 18661 28 18863 82 19091 110 19347 110 1...</td>\n",
       "      <td>0007a71bf.jpg</td>\n",
       "      <td>/content/drive/Shared drives/python/kaggle/ste...</td>\n",
       "    </tr>\n",
       "  </tbody>\n",
       "</table>\n",
       "</div>"
      ],
      "text/plain": [
       "                                                mask  ...                                                url\n",
       "0  [29102 12 29346 24 29602 24 29858 24 30114 24 ...  ...  /content/drive/Shared drives/python/kaggle/ste...\n",
       "1                                       [0, 0, 0, 0]  ...  /content/drive/Shared drives/python/kaggle/ste...\n",
       "2                                       [0, 0, 0, 0]  ...  /content/drive/Shared drives/python/kaggle/ste...\n",
       "3                                       [0, 0, 0, 0]  ...  /content/drive/Shared drives/python/kaggle/ste...\n",
       "4  [0, 0, 18661 28 18863 82 19091 110 19347 110 1...  ...  /content/drive/Shared drives/python/kaggle/ste...\n",
       "\n",
       "[5 rows x 3 columns]"
      ]
     },
     "execution_count": 14,
     "metadata": {
      "tags": []
     },
     "output_type": "execute_result"
    }
   ],
   "source": [
    "df_aggre.head()"
   ]
  },
  {
   "cell_type": "markdown",
   "metadata": {
    "colab_type": "text",
    "id": "jDyi6n47LCiq"
   },
   "source": [
    "# utils"
   ]
  },
  {
   "cell_type": "code",
   "execution_count": 0,
   "metadata": {
    "colab": {},
    "colab_type": "code",
    "id": "ixAm0DM0LCir"
   },
   "outputs": [],
   "source": [
    "#function of transfering EncodedPixels to mask image array\n",
    "def mask_decode(code):\n",
    "    if code == 0:\n",
    "        return np.zeros((256,1600,1)).astype('int8')\n",
    "    else:\n",
    "        code = np.array(code.split(' ')).astype('int32').reshape(-1,2)\n",
    "        number = np.split(code,2,axis=1)[0].reshape(-1)\n",
    "        times = np.split(code,2,axis=1)[1].reshape(-1)\n",
    "        pixel = np.concatenate([np.arange(i,i+j) for i,j in zip(number,times)])\n",
    "        pixel = pixel[pixel<409600]\n",
    "        mask_img = np.zeros(256*1600,dtype=int).astype('int8')\n",
    "        mask_img[pixel] = 1\n",
    "        mask_img = mask_img.reshape(1600,256)\n",
    "        mask_img = mask_img.T.reshape(256,1600,1)\n",
    "        return mask_img\n",
    "#complie mask1-4 into one\n",
    "def compile_mask(li):\n",
    "    mask_4 = []\n",
    "    for i in li:\n",
    "        mask_4.append(mask_decode(i))\n",
    "    mask_4 = np.dstack(mask_4)\n",
    "    mask_4 = mask_4[np.newaxis,:]\n",
    "    return mask_4\n",
    "#----------------------------------------------------------------------------------\n",
    "#function of transfering mask image array to EncodedPixels\n",
    "def mask_encode(mask):\n",
    "    flat = np.argwhere(mask.T.reshape(-1)).reshape(-1)\n",
    "    number = [flat[0]]\n",
    "    times = []\n",
    "    count = 1\n",
    "    for i in range(len(flat)-1):\n",
    "        if i == len(flat)-2:\n",
    "            count += 1\n",
    "            times.append(count) \n",
    "        elif flat[i+1] - flat[i] == 1:\n",
    "            count += 1\n",
    "        elif flat[i+1] - flat[i] != 1:\n",
    "            number.append(flat[i+1])\n",
    "            times.append(count)\n",
    "            count = 1 \n",
    "    code = np.stack([number,times],axis=1).reshape(-1).astype('str')\n",
    "    code = ' '.join(code)\n",
    "    return code\n",
    "#---------------------------------------------------------------------------------- \n",
    "#function of transfering url of training image to image array \n",
    "def train_importer(url):\n",
    "    img = cv2.imread(url,0).reshape(256,1600,1)[np.newaxis,:]\n",
    "    return img\n",
    "#---------------------------------------------------------------------------------- \n",
    "#function of generating batch data of training image array(x),mask image array(y) for batch training\n",
    "def data_importer(df):\n",
    "    while 1:\n",
    "        sample = np.random.randint(0,len(df),size=batch_size)\n",
    "        train = np.vstack(df['url'].iloc[sample].apply(train_importer).values)/255\n",
    "        mask = np.vstack(df['mask'].iloc[sample].apply(compile_mask).values)\n",
    "        yield train,mask"
   ]
  },
  {
   "cell_type": "code",
   "execution_count": 0,
   "metadata": {
    "colab": {},
    "colab_type": "code",
    "id": "BiMF-T6tLCit"
   },
   "outputs": [],
   "source": [
    "#split train&test\n",
    "train_x,test_x,_,_ = train_test_split(df_aggre,range(len(df_aggre)),test_size=0.2,random_state=0)\n",
    "train_generator = data_importer(train_x)\n",
    "test_generator = data_importer(test_x)"
   ]
  },
  {
   "cell_type": "markdown",
   "metadata": {
    "colab_type": "text",
    "id": "XVNi-TMpLCiw"
   },
   "source": [
    "# testing"
   ]
  },
  {
   "cell_type": "code",
   "execution_count": 17,
   "metadata": {
    "colab": {
     "base_uri": "https://localhost:8080/",
     "height": 607
    },
    "colab_type": "code",
    "id": "INQVMMXsLCiw",
    "outputId": "a1529c36-a6e2-41e8-e2bb-d1ebb2369e84"
   },
   "outputs": [
    {
     "data": {
      "text/plain": [
       "([], <a list of 0 Text yticklabel objects>)"
      ]
     },
     "execution_count": 17,
     "metadata": {
      "tags": []
     },
     "output_type": "execute_result"
    },
    {
     "data": {
      "image/png": "[encoded data removed]",
      "text/plain": [
       "<Figure size 720x720 with 5 Axes>"
      ]
     },
     "metadata": {
      "tags": []
     },
     "output_type": "display_data"
    }
   ],
   "source": [
    "n = np.random.randint(0,len(df_aggre),1)[0]\n",
    "train_pic = train_importer(df_aggre['url'].iloc[n])[0].reshape(256,1600)\n",
    "mask_1 = compile_mask(df_aggre['mask'].iloc[n])[0][:,:,0].reshape(256,1600)\n",
    "mask_2 = compile_mask(df_aggre['mask'].iloc[n])[0][:,:,1].reshape(256,1600)\n",
    "mask_3 = compile_mask(df_aggre['mask'].iloc[n])[0][:,:,2].reshape(256,1600)\n",
    "mask_4 = compile_mask(df_aggre['mask'].iloc[n])[0][:,:,3].reshape(256,1600)\n",
    "plt.figure(figsize=(10,10))  \n",
    "plt.subplot(5,1,1)\n",
    "plt.imshow(train_pic)\n",
    "plt.title('training image')\n",
    "plt.xticks([]);plt.yticks([])\n",
    "plt.subplot(5,1,2)\n",
    "plt.imshow(mask_1)\n",
    "plt.title('mask_1')\n",
    "plt.xticks([]);plt.yticks([])\n",
    "plt.subplot(5,1,3)\n",
    "plt.imshow(mask_2)\n",
    "plt.title('mask_2')\n",
    "plt.xticks([]);plt.yticks([])\n",
    "plt.subplot(5,1,4)\n",
    "plt.imshow(mask_3)\n",
    "plt.title('mask_3')\n",
    "plt.xticks([]);plt.yticks([])\n",
    "plt.subplot(5,1,5)\n",
    "plt.imshow(mask_4)\n",
    "plt.title('mask_4')\n",
    "plt.xticks([]);plt.yticks([])"
   ]
  },
  {
   "cell_type": "code",
   "execution_count": 18,
   "metadata": {
    "colab": {
     "base_uri": "https://localhost:8080/",
     "height": 34
    },
    "colab_type": "code",
    "id": "xj_J-BS8LCiy",
    "outputId": "08a17b1d-ba8e-40cd-fd80-2563058fd5a1"
   },
   "outputs": [
    {
     "data": {
      "text/plain": [
       "(1, 256, 1600, 1)"
      ]
     },
     "execution_count": 18,
     "metadata": {
      "tags": []
     },
     "output_type": "execute_result"
    }
   ],
   "source": [
    "train_importer(df_aggre['url'][0]).shape"
   ]
  },
  {
   "cell_type": "code",
   "execution_count": 19,
   "metadata": {
    "colab": {
     "base_uri": "https://localhost:8080/",
     "height": 34
    },
    "colab_type": "code",
    "id": "egf9SLb9LCi0",
    "outputId": "6e793738-2cbf-4a56-e7a9-9bad0dae369b"
   },
   "outputs": [
    {
     "data": {
      "text/plain": [
       "(1, 256, 1600, 4)"
      ]
     },
     "execution_count": 19,
     "metadata": {
      "tags": []
     },
     "output_type": "execute_result"
    }
   ],
   "source": [
    "compile_mask(df_aggre['mask'][0]).shape"
   ]
  },
  {
   "cell_type": "markdown",
   "metadata": {
    "colab_type": "text",
    "id": "Zz59CVwGLCi2"
   },
   "source": [
    "# create model"
   ]
  },
  {
   "cell_type": "code",
   "execution_count": 20,
   "metadata": {
    "colab": {
     "base_uri": "https://localhost:8080/",
     "height": 63
    },
    "colab_type": "code",
    "id": "O1cfoCneLCi2",
    "outputId": "dd799f6c-3004-4eda-a297-d722bff264b9"
   },
   "outputs": [
    {
     "data": {
      "text/html": [
       "<p style=\"color: red;\">\n",
       "The default version of TensorFlow in Colab will soon switch to TensorFlow 2.x.<br>\n",
       "We recommend you <a href=\"https://www.tensorflow.org/guide/migrate\" target=\"_blank\">upgrade</a> now \n",
       "or ensure your notebook will continue to use TensorFlow 1.x via the <code>%tensorflow_version 1.x</code> magic:\n",
       "<a href=\"https://colab.research.google.com/notebooks/tensorflow_version.ipynb\" target=\"_blank\">more info</a>.</p>\n"
      ],
      "text/plain": [
       "<IPython.core.display.HTML object>"
      ]
     },
     "metadata": {
      "tags": []
     },
     "output_type": "display_data"
    }
   ],
   "source": [
    "from tensorflow.keras import Model\n",
    "from tensorflow.keras.layers import Conv2D,MaxPooling2D,BatchNormalization,Dropout,Conv2DTranspose,Input,Activation,concatenate"
   ]
  },
  {
   "cell_type": "code",
   "execution_count": 0,
   "metadata": {
    "colab": {},
    "colab_type": "code",
    "id": "jCrsnGWuLCi6"
   },
   "outputs": [],
   "source": [
    "#create convolution block(conv2D->batchnorm->relu->conv2D->batchnorm->relu)\n",
    "def conv2d_block(input_tensor, n_filters, kernel_size=3, batchnorm=True):\n",
    "    # first layer\n",
    "    x = Conv2D(filters=n_filters, kernel_size=(kernel_size, kernel_size), kernel_initializer=\"he_normal\",\n",
    "               padding=\"same\")(input_tensor)\n",
    "    if batchnorm:\n",
    "        x = BatchNormalization()(x)\n",
    "    x = Activation(\"relu\")(x)\n",
    "    # second layer\n",
    "    x = Conv2D(filters=n_filters, kernel_size=(kernel_size, kernel_size), kernel_initializer=\"he_normal\",\n",
    "               padding=\"same\")(x)\n",
    "    if batchnorm:\n",
    "        x = BatchNormalization()(x)\n",
    "    x = Activation(\"relu\")(x)\n",
    "    return x\n",
    "# ---------------------------------------------------------------------------------------\n",
    "#create unet model\n",
    "def get_unet(input_img, n_filters=16, dropout=0.5, batchnorm=True):\n",
    "    # contracting path\n",
    "    c1 = conv2d_block(input_img, n_filters=n_filters*1, kernel_size=3, batchnorm=batchnorm)\n",
    "    p1 = MaxPooling2D((2, 2)) (c1)\n",
    "    p1 = Dropout(dropout*0.5)(p1)\n",
    "\n",
    "    c2 = conv2d_block(p1, n_filters=n_filters*2, kernel_size=3, batchnorm=batchnorm)\n",
    "    p2 = MaxPooling2D((2, 2)) (c2)\n",
    "    p2 = Dropout(dropout)(p2)\n",
    "\n",
    "    c3 = conv2d_block(p2, n_filters=n_filters*4, kernel_size=3, batchnorm=batchnorm)\n",
    "    p3 = MaxPooling2D((2, 2)) (c3)\n",
    "    p3 = Dropout(dropout)(p3)\n",
    "\n",
    "    c4 = conv2d_block(p3, n_filters=n_filters*8, kernel_size=3, batchnorm=batchnorm)\n",
    "    p4 = MaxPooling2D(pool_size=(2, 2)) (c4)\n",
    "    p4 = Dropout(dropout)(p4)\n",
    "    \n",
    "    c5 = conv2d_block(p4, n_filters=n_filters*16, kernel_size=3, batchnorm=batchnorm)\n",
    "    \n",
    "    # expansive path\n",
    "    u6 = Conv2DTranspose(n_filters*8, (3, 3), strides=(2, 2), padding='same') (c5)\n",
    "    u6 = concatenate([u6, c4])\n",
    "    u6 = Dropout(dropout)(u6)\n",
    "    c6 = conv2d_block(u6, n_filters=n_filters*8, kernel_size=3, batchnorm=batchnorm)\n",
    "\n",
    "    u7 = Conv2DTranspose(n_filters*4, (3, 3), strides=(2, 2), padding='same') (c6)\n",
    "    u7 = concatenate([u7, c3])\n",
    "    u7 = Dropout(dropout)(u7)\n",
    "    c7 = conv2d_block(u7, n_filters=n_filters*4, kernel_size=3, batchnorm=batchnorm)\n",
    "\n",
    "    u8 = Conv2DTranspose(n_filters*2, (3, 3), strides=(2, 2), padding='same') (c7)\n",
    "    u8 = concatenate([u8, c2])\n",
    "    u8 = Dropout(dropout)(u8)\n",
    "    c8 = conv2d_block(u8, n_filters=n_filters*2, kernel_size=3, batchnorm=batchnorm)\n",
    "\n",
    "    u9 = Conv2DTranspose(n_filters*1, (3, 3), strides=(2, 2), padding='same') (c8)\n",
    "    u9 = concatenate([u9, c1], axis=3)\n",
    "    u9 = Dropout(dropout)(u9)\n",
    "    c9 = conv2d_block(u9, n_filters=n_filters*1, kernel_size=3, batchnorm=batchnorm)\n",
    "    \n",
    "    outputs = Conv2D(4, (1, 1), activation='sigmoid') (c9)\n",
    "    model = Model(inputs=[input_img], outputs=[outputs])\n",
    "    return model"
   ]
  },
  {
   "cell_type": "code",
   "execution_count": 22,
   "metadata": {
    "colab": {
     "base_uri": "https://localhost:8080/",
     "height": 1000
    },
    "colab_type": "code",
    "id": "YWDgCKJULCi8",
    "outputId": "85dd84de-8ffa-4ba6-a555-a02d4558b934"
   },
   "outputs": [
    {
     "name": "stdout",
     "output_type": "stream",
     "text": [
      "WARNING:tensorflow:From /usr/local/lib/python3.6/dist-packages/tensorflow_core/python/ops/resource_variable_ops.py:1630: calling BaseResourceVariable.__init__ (from tensorflow.python.ops.resource_variable_ops) with constraint is deprecated and will be removed in a future version.\n",
      "Instructions for updating:\n",
      "If using Keras pass *_constraint arguments to layers.\n",
      "Model: \"model\"\n",
      "__________________________________________________________________________________________________\n",
      "Layer (type)                    Output Shape         Param #     Connected to                     \n",
      "==================================================================================================\n",
      "img (InputLayer)                [(None, 256, 1600, 1 0                                            \n",
      "__________________________________________________________________________________________________\n",
      "conv2d (Conv2D)                 (None, 256, 1600, 16 160         img[0][0]                        \n",
      "__________________________________________________________________________________________________\n",
      "batch_normalization (BatchNorma (None, 256, 1600, 16 64          conv2d[0][0]                     \n",
      "__________________________________________________________________________________________________\n",
      "activation (Activation)         (None, 256, 1600, 16 0           batch_normalization[0][0]        \n",
      "__________________________________________________________________________________________________\n",
      "conv2d_1 (Conv2D)               (None, 256, 1600, 16 2320        activation[0][0]                 \n",
      "__________________________________________________________________________________________________\n",
      "batch_normalization_1 (BatchNor (None, 256, 1600, 16 64          conv2d_1[0][0]                   \n",
      "__________________________________________________________________________________________________\n",
      "activation_1 (Activation)       (None, 256, 1600, 16 0           batch_normalization_1[0][0]      \n",
      "__________________________________________________________________________________________________\n",
      "max_pooling2d (MaxPooling2D)    (None, 128, 800, 16) 0           activation_1[0][0]               \n",
      "__________________________________________________________________________________________________\n",
      "dropout (Dropout)               (None, 128, 800, 16) 0           max_pooling2d[0][0]              \n",
      "__________________________________________________________________________________________________\n",
      "conv2d_2 (Conv2D)               (None, 128, 800, 32) 4640        dropout[0][0]                    \n",
      "__________________________________________________________________________________________________\n",
      "batch_normalization_2 (BatchNor (None, 128, 800, 32) 128         conv2d_2[0][0]                   \n",
      "__________________________________________________________________________________________________\n",
      "activation_2 (Activation)       (None, 128, 800, 32) 0           batch_normalization_2[0][0]      \n",
      "__________________________________________________________________________________________________\n",
      "conv2d_3 (Conv2D)               (None, 128, 800, 32) 9248        activation_2[0][0]               \n",
      "__________________________________________________________________________________________________\n",
      "batch_normalization_3 (BatchNor (None, 128, 800, 32) 128         conv2d_3[0][0]                   \n",
      "__________________________________________________________________________________________________\n",
      "activation_3 (Activation)       (None, 128, 800, 32) 0           batch_normalization_3[0][0]      \n",
      "__________________________________________________________________________________________________\n",
      "max_pooling2d_1 (MaxPooling2D)  (None, 64, 400, 32)  0           activation_3[0][0]               \n",
      "__________________________________________________________________________________________________\n",
      "dropout_1 (Dropout)             (None, 64, 400, 32)  0           max_pooling2d_1[0][0]            \n",
      "__________________________________________________________________________________________________\n",
      "conv2d_4 (Conv2D)               (None, 64, 400, 64)  18496       dropout_1[0][0]                  \n",
      "__________________________________________________________________________________________________\n",
      "batch_normalization_4 (BatchNor (None, 64, 400, 64)  256         conv2d_4[0][0]                   \n",
      "__________________________________________________________________________________________________\n",
      "activation_4 (Activation)       (None, 64, 400, 64)  0           batch_normalization_4[0][0]      \n",
      "__________________________________________________________________________________________________\n",
      "conv2d_5 (Conv2D)               (None, 64, 400, 64)  36928       activation_4[0][0]               \n",
      "__________________________________________________________________________________________________\n",
      "batch_normalization_5 (BatchNor (None, 64, 400, 64)  256         conv2d_5[0][0]                   \n",
      "__________________________________________________________________________________________________\n",
      "activation_5 (Activation)       (None, 64, 400, 64)  0           batch_normalization_5[0][0]      \n",
      "__________________________________________________________________________________________________\n",
      "max_pooling2d_2 (MaxPooling2D)  (None, 32, 200, 64)  0           activation_5[0][0]               \n",
      "__________________________________________________________________________________________________\n",
      "dropout_2 (Dropout)             (None, 32, 200, 64)  0           max_pooling2d_2[0][0]            \n",
      "__________________________________________________________________________________________________\n",
      "conv2d_6 (Conv2D)               (None, 32, 200, 128) 73856       dropout_2[0][0]                  \n",
      "__________________________________________________________________________________________________\n",
      "batch_normalization_6 (BatchNor (None, 32, 200, 128) 512         conv2d_6[0][0]                   \n",
      "__________________________________________________________________________________________________\n",
      "activation_6 (Activation)       (None, 32, 200, 128) 0           batch_normalization_6[0][0]      \n",
      "__________________________________________________________________________________________________\n",
      "conv2d_7 (Conv2D)               (None, 32, 200, 128) 147584      activation_6[0][0]               \n",
      "__________________________________________________________________________________________________\n",
      "batch_normalization_7 (BatchNor (None, 32, 200, 128) 512         conv2d_7[0][0]                   \n",
      "__________________________________________________________________________________________________\n",
      "activation_7 (Activation)       (None, 32, 200, 128) 0           batch_normalization_7[0][0]      \n",
      "__________________________________________________________________________________________________\n",
      "max_pooling2d_3 (MaxPooling2D)  (None, 16, 100, 128) 0           activation_7[0][0]               \n",
      "__________________________________________________________________________________________________\n",
      "dropout_3 (Dropout)             (None, 16, 100, 128) 0           max_pooling2d_3[0][0]            \n",
      "__________________________________________________________________________________________________\n",
      "conv2d_8 (Conv2D)               (None, 16, 100, 256) 295168      dropout_3[0][0]                  \n",
      "__________________________________________________________________________________________________\n",
      "batch_normalization_8 (BatchNor (None, 16, 100, 256) 1024        conv2d_8[0][0]                   \n",
      "__________________________________________________________________________________________________\n",
      "activation_8 (Activation)       (None, 16, 100, 256) 0           batch_normalization_8[0][0]      \n",
      "__________________________________________________________________________________________________\n",
      "conv2d_9 (Conv2D)               (None, 16, 100, 256) 590080      activation_8[0][0]               \n",
      "__________________________________________________________________________________________________\n",
      "batch_normalization_9 (BatchNor (None, 16, 100, 256) 1024        conv2d_9[0][0]                   \n",
      "__________________________________________________________________________________________________\n",
      "activation_9 (Activation)       (None, 16, 100, 256) 0           batch_normalization_9[0][0]      \n",
      "__________________________________________________________________________________________________\n",
      "conv2d_transpose (Conv2DTranspo (None, 32, 200, 128) 295040      activation_9[0][0]               \n",
      "__________________________________________________________________________________________________\n",
      "concatenate (Concatenate)       (None, 32, 200, 256) 0           conv2d_transpose[0][0]           \n",
      "                                                                 activation_7[0][0]               \n",
      "__________________________________________________________________________________________________\n",
      "dropout_4 (Dropout)             (None, 32, 200, 256) 0           concatenate[0][0]                \n",
      "__________________________________________________________________________________________________\n",
      "conv2d_10 (Conv2D)              (None, 32, 200, 128) 295040      dropout_4[0][0]                  \n",
      "__________________________________________________________________________________________________\n",
      "batch_normalization_10 (BatchNo (None, 32, 200, 128) 512         conv2d_10[0][0]                  \n",
      "__________________________________________________________________________________________________\n",
      "activation_10 (Activation)      (None, 32, 200, 128) 0           batch_normalization_10[0][0]     \n",
      "__________________________________________________________________________________________________\n",
      "conv2d_11 (Conv2D)              (None, 32, 200, 128) 147584      activation_10[0][0]              \n",
      "__________________________________________________________________________________________________\n",
      "batch_normalization_11 (BatchNo (None, 32, 200, 128) 512         conv2d_11[0][0]                  \n",
      "__________________________________________________________________________________________________\n",
      "activation_11 (Activation)      (None, 32, 200, 128) 0           batch_normalization_11[0][0]     \n",
      "__________________________________________________________________________________________________\n",
      "conv2d_transpose_1 (Conv2DTrans (None, 64, 400, 64)  73792       activation_11[0][0]              \n",
      "__________________________________________________________________________________________________\n",
      "concatenate_1 (Concatenate)     (None, 64, 400, 128) 0           conv2d_transpose_1[0][0]         \n",
      "                                                                 activation_5[0][0]               \n",
      "__________________________________________________________________________________________________\n",
      "dropout_5 (Dropout)             (None, 64, 400, 128) 0           concatenate_1[0][0]              \n",
      "__________________________________________________________________________________________________\n",
      "conv2d_12 (Conv2D)              (None, 64, 400, 64)  73792       dropout_5[0][0]                  \n",
      "__________________________________________________________________________________________________\n",
      "batch_normalization_12 (BatchNo (None, 64, 400, 64)  256         conv2d_12[0][0]                  \n",
      "__________________________________________________________________________________________________\n",
      "activation_12 (Activation)      (None, 64, 400, 64)  0           batch_normalization_12[0][0]     \n",
      "__________________________________________________________________________________________________\n",
      "conv2d_13 (Conv2D)              (None, 64, 400, 64)  36928       activation_12[0][0]              \n",
      "__________________________________________________________________________________________________\n",
      "batch_normalization_13 (BatchNo (None, 64, 400, 64)  256         conv2d_13[0][0]                  \n",
      "__________________________________________________________________________________________________\n",
      "activation_13 (Activation)      (None, 64, 400, 64)  0           batch_normalization_13[0][0]     \n",
      "__________________________________________________________________________________________________\n",
      "conv2d_transpose_2 (Conv2DTrans (None, 128, 800, 32) 18464       activation_13[0][0]              \n",
      "__________________________________________________________________________________________________\n",
      "concatenate_2 (Concatenate)     (None, 128, 800, 64) 0           conv2d_transpose_2[0][0]         \n",
      "                                                                 activation_3[0][0]               \n",
      "__________________________________________________________________________________________________\n",
      "dropout_6 (Dropout)             (None, 128, 800, 64) 0           concatenate_2[0][0]              \n",
      "__________________________________________________________________________________________________\n",
      "conv2d_14 (Conv2D)              (None, 128, 800, 32) 18464       dropout_6[0][0]                  \n",
      "__________________________________________________________________________________________________\n",
      "batch_normalization_14 (BatchNo (None, 128, 800, 32) 128         conv2d_14[0][0]                  \n",
      "__________________________________________________________________________________________________\n",
      "activation_14 (Activation)      (None, 128, 800, 32) 0           batch_normalization_14[0][0]     \n",
      "__________________________________________________________________________________________________\n",
      "conv2d_15 (Conv2D)              (None, 128, 800, 32) 9248        activation_14[0][0]              \n",
      "__________________________________________________________________________________________________\n",
      "batch_normalization_15 (BatchNo (None, 128, 800, 32) 128         conv2d_15[0][0]                  \n",
      "__________________________________________________________________________________________________\n",
      "activation_15 (Activation)      (None, 128, 800, 32) 0           batch_normalization_15[0][0]     \n",
      "__________________________________________________________________________________________________\n",
      "conv2d_transpose_3 (Conv2DTrans (None, 256, 1600, 16 4624        activation_15[0][0]              \n",
      "__________________________________________________________________________________________________\n",
      "concatenate_3 (Concatenate)     (None, 256, 1600, 32 0           conv2d_transpose_3[0][0]         \n",
      "                                                                 activation_1[0][0]               \n",
      "__________________________________________________________________________________________________\n",
      "dropout_7 (Dropout)             (None, 256, 1600, 32 0           concatenate_3[0][0]              \n",
      "__________________________________________________________________________________________________\n",
      "conv2d_16 (Conv2D)              (None, 256, 1600, 16 4624        dropout_7[0][0]                  \n",
      "__________________________________________________________________________________________________\n",
      "batch_normalization_16 (BatchNo (None, 256, 1600, 16 64          conv2d_16[0][0]                  \n",
      "__________________________________________________________________________________________________\n",
      "activation_16 (Activation)      (None, 256, 1600, 16 0           batch_normalization_16[0][0]     \n",
      "__________________________________________________________________________________________________\n",
      "conv2d_17 (Conv2D)              (None, 256, 1600, 16 2320        activation_16[0][0]              \n",
      "__________________________________________________________________________________________________\n",
      "batch_normalization_17 (BatchNo (None, 256, 1600, 16 64          conv2d_17[0][0]                  \n",
      "__________________________________________________________________________________________________\n",
      "activation_17 (Activation)      (None, 256, 1600, 16 0           batch_normalization_17[0][0]     \n",
      "__________________________________________________________________________________________________\n",
      "conv2d_18 (Conv2D)              (None, 256, 1600, 4) 68          activation_17[0][0]              \n",
      "==================================================================================================\n",
      "Total params: 2,164,356\n",
      "Trainable params: 2,161,412\n",
      "Non-trainable params: 2,944\n",
      "__________________________________________________________________________________________________\n"
     ]
    }
   ],
   "source": [
    "# summary of model for illustration\n",
    "input_img = Input((256, 1600, 1), name='img')\n",
    "model_illustrate = get_unet(input_img, n_filters=16, dropout=0.2, batchnorm=True)\n",
    "model_illustrate.summary()"
   ]
  },
  {
   "cell_type": "code",
   "execution_count": 0,
   "metadata": {
    "colab": {},
    "colab_type": "code",
    "id": "FEezN4BVLCjA"
   },
   "outputs": [],
   "source": [
    "# assign batch_size for training model\n",
    "batch_size = 10"
   ]
  },
  {
   "cell_type": "code",
   "execution_count": 25,
   "metadata": {
    "colab": {
     "base_uri": "https://localhost:8080/",
     "height": 187
    },
    "colab_type": "code",
    "id": "cLVLwegXLCjC",
    "outputId": "634108df-8217-4f2f-ae4a-ecd00df45cb7"
   },
   "outputs": [
    {
     "name": "stdout",
     "output_type": "stream",
     "text": [
      "Epoch 1/3\n",
      "1004/1005 [============================>.] - ETA: 3s - loss: 0.1039 - acc: 0.9844Epoch 1/3\n",
      "1005/1005 [==============================] - 3938s 4s/step - loss: 0.1038 - acc: 0.9844 - val_loss: 0.0298 - val_acc: 0.9929\n",
      "Epoch 2/3\n",
      "1004/1005 [============================>.] - ETA: 1s - loss: 0.0273 - acc: 0.9928Epoch 1/3\n",
      "1005/1005 [==============================] - 1825s 2s/step - loss: 0.0273 - acc: 0.9928 - val_loss: 0.0220 - val_acc: 0.9939\n",
      "Epoch 3/3\n",
      "1004/1005 [============================>.] - ETA: 0s - loss: 0.0248 - acc: 0.9930Epoch 1/3\n",
      "1005/1005 [==============================] - 1141s 1s/step - loss: 0.0248 - acc: 0.9930 - val_loss: 0.0256 - val_acc: 0.9922\n"
     ]
    },
    {
     "data": {
      "text/plain": [
       "<tensorflow.python.keras.callbacks.History at 0x7fead19972e8>"
      ]
     },
     "execution_count": 25,
     "metadata": {
      "tags": []
     },
     "output_type": "execute_result"
    }
   ],
   "source": [
    "# training model\n",
    "model = get_unet(input_img, n_filters=16, dropout=0.2, batchnorm=True)\n",
    "model.compile(optimizer='adam', loss='binary_crossentropy', metrics=['accuracy'])\n",
    "model.fit_generator(train_generator,steps_per_epoch=len(train_x)//(batch_size),\n",
    "                    validation_data=test_generator,validation_steps=len(test_x)//(batch_size),epochs=3,workers=-1)"
   ]
  },
  {
   "cell_type": "markdown",
   "metadata": {
    "colab_type": "text",
    "id": "EChp82K0LCjE"
   },
   "source": [
    "# illustration"
   ]
  },
  {
   "cell_type": "code",
   "execution_count": 0,
   "metadata": {
    "colab": {},
    "colab_type": "code",
    "id": "G7o5LqhpLCjE"
   },
   "outputs": [],
   "source": [
    "#create data importer for model prediction\n",
    "def test_importer(df):\n",
    "    while 1:\n",
    "        test = np.vstack(df['url'][0:10].apply(train_importer).values)/255\n",
    "        yield test\n",
    "\n",
    "#show test_image / mask(*4) / predict_mask(*4)\n",
    "def test_show(df):\n",
    "    pred_generator = test_importer(df)\n",
    "    pred = model.predict_generator(pred_generator,steps=1)\n",
    "    n = np.random.randint(0,10,1)[0]\n",
    "    pred_pic = pred[n]\n",
    "    pred_1 = pred_pic[:,:,0].reshape(256,1600) ; pred_2 = pred_pic[:,:,1].reshape(256,1600)  ; pred_3 = pred_pic[:,:,2].reshape(256,1600)  ; pred_4 = pred_pic[:,:,3].reshape(256,1600)\n",
    "    train_pic = train_importer(df['url'].iloc[n])[0].reshape(256,1600)\n",
    "    mask_pic = compile_mask(df['mask'].iloc[n])[0]\n",
    "    mask_1 = mask_pic[:,:,0].reshape(256,1600) ; mask_2 = mask_pic[:,:,1].reshape(256,1600)  ; mask_3 = mask_pic[:,:,2].reshape(256,1600)  ; mask_4 = mask_pic[:,:,3].reshape(256,1600)\n",
    "    plt.figure(figsize=(20,20))\n",
    "    plt.subplot(9,1,1)\n",
    "    plt.imshow(train_pic);plt.title('training image');plt.xticks([]);plt.yticks([])\n",
    "    plt.subplot(9,1,2)\n",
    "    plt.imshow(pred_1);plt.title('predict_class1');plt.xticks([]);plt.yticks([])\n",
    "    plt.subplot(9,1,3)\n",
    "    plt.imshow(mask_1);plt.title('mask_class1');plt.xticks([]);plt.yticks([])\n",
    "    plt.subplot(9,1,4)\n",
    "    plt.imshow(pred_2);plt.title('predict_class2');plt.xticks([]);plt.yticks([])\n",
    "    plt.subplot(9,1,5)\n",
    "    plt.imshow(mask_2);plt.title('mask_class2');plt.xticks([]);plt.yticks([])\n",
    "    plt.subplot(9,1,6)\n",
    "    plt.imshow(pred_3);plt.title('predict_class3');plt.xticks([]);plt.yticks([])\n",
    "    plt.subplot(9,1,7)\n",
    "    plt.imshow(mask_3);plt.title('mask_class3');plt.xticks([]);plt.yticks([])\n",
    "    plt.subplot(9,1,8)\n",
    "    plt.imshow(pred_4);plt.title('predict_class4');plt.xticks([]);plt.yticks([])\n",
    "    plt.subplot(9,1,9)\n",
    "    plt.imshow(mask_4);plt.title('mask_class4');plt.xticks([]);plt.yticks([])"
   ]
  },
  {
   "cell_type": "code",
   "execution_count": 1,
   "metadata": {
    "colab": {
     "base_uri": "https://localhost:8080/",
     "height": 165
    },
    "colab_type": "code",
    "id": "LjKLgp1y9z61",
    "outputId": "11dc7038-8c35-48bd-9795-d5d32410e082"
   },
   "outputs": [
    {
     "ename": "NameError",
     "evalue": "ignored",
     "output_type": "error",
     "traceback": [
      "\u001b[0;31m---------------------------------------------------------------------------\u001b[0m",
      "\u001b[0;31mNameError\u001b[0m                                 Traceback (most recent call last)",
      "\u001b[0;32m<ipython-input-1-7a0838a13800>\u001b[0m in \u001b[0;36m<module>\u001b[0;34m()\u001b[0m\n\u001b[0;32m----> 1\u001b[0;31m \u001b[0mtest_show\u001b[0m\u001b[0;34m(\u001b[0m\u001b[0mtest_x\u001b[0m\u001b[0;34m)\u001b[0m\u001b[0;34m\u001b[0m\u001b[0;34m\u001b[0m\u001b[0m\n\u001b[0m",
      "\u001b[0;31mNameError\u001b[0m: name 'test_show' is not defined"
     ]
    }
   ],
   "source": [
    "test_show(test_x)"
   ]
  }
 ],
 "metadata": {
  "accelerator": "GPU",
  "colab": {
   "collapsed_sections": [],
   "name": "steel_defect_new.ipynb",
   "provenance": [],
   "toc_visible": true
  },
  "kernelspec": {
   "display_name": "Python 3",
   "language": "python",
   "name": "python3"
  },
  "language_info": {
   "codemirror_mode": {
    "name": "ipython",
    "version": 3
   },
   "file_extension": ".py",
   "mimetype": "text/x-python",
   "name": "python",
   "nbconvert_exporter": "python",
   "pygments_lexer": "ipython3",
   "version": "3.7.3"
  }
 },
 "nbformat": 4,
 "nbformat_minor": 1
}
