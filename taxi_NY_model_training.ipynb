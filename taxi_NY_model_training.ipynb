{
 "cells": [
  {
   "cell_type": "code",
   "execution_count": 1,
   "metadata": {},
   "outputs": [],
   "source": [
    "import numpy as np\n",
    "import pandas as pd\n",
    "import matplotlib.pyplot as plt\n",
    "from sklearn.model_selection import train_test_split,RandomizedSearchCV\n",
    "from sklearn.ensemble import RandomForestRegressor\n",
    "%matplotlib inline"
   ]
  },
  {
   "cell_type": "markdown",
   "metadata": {},
   "source": [
    "# import filtered data"
   ]
  },
  {
   "cell_type": "code",
   "execution_count": 2,
   "metadata": {},
   "outputs": [
    {
     "name": "stderr",
     "output_type": "stream",
     "text": [
      "C:\\Users\\User\\Anaconda3\\lib\\site-packages\\numpy\\lib\\arraysetops.py:569: FutureWarning: elementwise comparison failed; returning scalar instead, but in the future will perform elementwise comparison\n",
      "  mask |= (ar1 == a)\n"
     ]
    },
    {
     "data": {
      "text/html": [
       "<div>\n",
       "<style scoped>\n",
       "    .dataframe tbody tr th:only-of-type {\n",
       "        vertical-align: middle;\n",
       "    }\n",
       "\n",
       "    .dataframe tbody tr th {\n",
       "        vertical-align: top;\n",
       "    }\n",
       "\n",
       "    .dataframe thead th {\n",
       "        text-align: right;\n",
       "    }\n",
       "</style>\n",
       "<table border=\"1\" class=\"dataframe\">\n",
       "  <thead>\n",
       "    <tr style=\"text-align: right;\">\n",
       "      <th></th>\n",
       "      <th>fare_amount</th>\n",
       "      <th>pickup_longitude</th>\n",
       "      <th>pickup_latitude</th>\n",
       "      <th>dropoff_longitude</th>\n",
       "      <th>dropoff_latitude</th>\n",
       "      <th>passenger_count</th>\n",
       "      <th>distance</th>\n",
       "      <th>year</th>\n",
       "      <th>month</th>\n",
       "      <th>day</th>\n",
       "      <th>weekday</th>\n",
       "      <th>hour</th>\n",
       "      <th>x1</th>\n",
       "      <th>y1</th>\n",
       "      <th>x2</th>\n",
       "      <th>y2</th>\n",
       "    </tr>\n",
       "  </thead>\n",
       "  <tbody>\n",
       "    <tr>\n",
       "      <th>0</th>\n",
       "      <td>4.5</td>\n",
       "      <td>-73.844311</td>\n",
       "      <td>40.721319</td>\n",
       "      <td>-73.841610</td>\n",
       "      <td>40.712278</td>\n",
       "      <td>1</td>\n",
       "      <td>0.009436</td>\n",
       "      <td>2009</td>\n",
       "      <td>6</td>\n",
       "      <td>15</td>\n",
       "      <td>1</td>\n",
       "      <td>17</td>\n",
       "      <td>1331</td>\n",
       "      <td>851</td>\n",
       "      <td>1338</td>\n",
       "      <td>816</td>\n",
       "    </tr>\n",
       "    <tr>\n",
       "      <th>1</th>\n",
       "      <td>16.9</td>\n",
       "      <td>-74.016048</td>\n",
       "      <td>40.711303</td>\n",
       "      <td>-73.979268</td>\n",
       "      <td>40.782004</td>\n",
       "      <td>1</td>\n",
       "      <td>0.079696</td>\n",
       "      <td>2010</td>\n",
       "      <td>1</td>\n",
       "      <td>5</td>\n",
       "      <td>2</td>\n",
       "      <td>16</td>\n",
       "      <td>829</td>\n",
       "      <td>812</td>\n",
       "      <td>937</td>\n",
       "      <td>1084</td>\n",
       "    </tr>\n",
       "    <tr>\n",
       "      <th>2</th>\n",
       "      <td>5.7</td>\n",
       "      <td>-73.982738</td>\n",
       "      <td>40.761270</td>\n",
       "      <td>-73.991242</td>\n",
       "      <td>40.750562</td>\n",
       "      <td>2</td>\n",
       "      <td>0.013674</td>\n",
       "      <td>2011</td>\n",
       "      <td>8</td>\n",
       "      <td>18</td>\n",
       "      <td>4</td>\n",
       "      <td>0</td>\n",
       "      <td>926</td>\n",
       "      <td>1005</td>\n",
       "      <td>902</td>\n",
       "      <td>963</td>\n",
       "    </tr>\n",
       "    <tr>\n",
       "      <th>3</th>\n",
       "      <td>7.7</td>\n",
       "      <td>-73.987130</td>\n",
       "      <td>40.733143</td>\n",
       "      <td>-73.991567</td>\n",
       "      <td>40.758092</td>\n",
       "      <td>1</td>\n",
       "      <td>0.025340</td>\n",
       "      <td>2012</td>\n",
       "      <td>4</td>\n",
       "      <td>21</td>\n",
       "      <td>6</td>\n",
       "      <td>4</td>\n",
       "      <td>914</td>\n",
       "      <td>896</td>\n",
       "      <td>901</td>\n",
       "      <td>992</td>\n",
       "    </tr>\n",
       "    <tr>\n",
       "      <th>4</th>\n",
       "      <td>5.3</td>\n",
       "      <td>-73.968095</td>\n",
       "      <td>40.768008</td>\n",
       "      <td>-73.956655</td>\n",
       "      <td>40.783762</td>\n",
       "      <td>1</td>\n",
       "      <td>0.019470</td>\n",
       "      <td>2010</td>\n",
       "      <td>3</td>\n",
       "      <td>9</td>\n",
       "      <td>2</td>\n",
       "      <td>7</td>\n",
       "      <td>969</td>\n",
       "      <td>1030</td>\n",
       "      <td>1003</td>\n",
       "      <td>1091</td>\n",
       "    </tr>\n",
       "  </tbody>\n",
       "</table>\n",
       "</div>"
      ],
      "text/plain": [
       "   fare_amount  pickup_longitude  pickup_latitude  dropoff_longitude  \\\n",
       "0          4.5        -73.844311        40.721319         -73.841610   \n",
       "1         16.9        -74.016048        40.711303         -73.979268   \n",
       "2          5.7        -73.982738        40.761270         -73.991242   \n",
       "3          7.7        -73.987130        40.733143         -73.991567   \n",
       "4          5.3        -73.968095        40.768008         -73.956655   \n",
       "\n",
       "   dropoff_latitude  passenger_count  distance  year  month  day  weekday  \\\n",
       "0         40.712278                1  0.009436  2009      6   15        1   \n",
       "1         40.782004                1  0.079696  2010      1    5        2   \n",
       "2         40.750562                2  0.013674  2011      8   18        4   \n",
       "3         40.758092                1  0.025340  2012      4   21        6   \n",
       "4         40.783762                1  0.019470  2010      3    9        2   \n",
       "\n",
       "   hour    x1    y1    x2    y2  \n",
       "0    17  1331   851  1338   816  \n",
       "1    16   829   812   937  1084  \n",
       "2     0   926  1005   902   963  \n",
       "3     4   914   896   901   992  \n",
       "4     7   969  1030  1003  1091  "
      ]
     },
     "execution_count": 2,
     "metadata": {},
     "output_type": "execute_result"
    }
   ],
   "source": [
    "data = pd.read_csv('./ny_filtered.csv',index_col=0)\n",
    "data.head()"
   ]
  },
  {
   "cell_type": "markdown",
   "metadata": {},
   "source": [
    "# preprocessing(2)"
   ]
  },
  {
   "cell_type": "code",
   "execution_count": 3,
   "metadata": {},
   "outputs": [],
   "source": [
    "data.drop(['x1','y1','x2','y2'],axis=1,inplace=True)"
   ]
  },
  {
   "cell_type": "code",
   "execution_count": 4,
   "metadata": {},
   "outputs": [],
   "source": [
    "datax = data.drop(['fare_amount'],axis=1)\n",
    "datay = data['fare_amount']"
   ]
  },
  {
   "cell_type": "code",
   "execution_count": 5,
   "metadata": {},
   "outputs": [
    {
     "data": {
      "text/html": [
       "<div>\n",
       "<style scoped>\n",
       "    .dataframe tbody tr th:only-of-type {\n",
       "        vertical-align: middle;\n",
       "    }\n",
       "\n",
       "    .dataframe tbody tr th {\n",
       "        vertical-align: top;\n",
       "    }\n",
       "\n",
       "    .dataframe thead th {\n",
       "        text-align: right;\n",
       "    }\n",
       "</style>\n",
       "<table border=\"1\" class=\"dataframe\">\n",
       "  <thead>\n",
       "    <tr style=\"text-align: right;\">\n",
       "      <th></th>\n",
       "      <th>pickup_longitude</th>\n",
       "      <th>pickup_latitude</th>\n",
       "      <th>dropoff_longitude</th>\n",
       "      <th>dropoff_latitude</th>\n",
       "      <th>passenger_count</th>\n",
       "      <th>distance</th>\n",
       "      <th>year</th>\n",
       "      <th>month</th>\n",
       "      <th>day</th>\n",
       "      <th>weekday</th>\n",
       "      <th>hour</th>\n",
       "    </tr>\n",
       "  </thead>\n",
       "  <tbody>\n",
       "    <tr>\n",
       "      <th>0</th>\n",
       "      <td>-73.844311</td>\n",
       "      <td>40.721319</td>\n",
       "      <td>-73.841610</td>\n",
       "      <td>40.712278</td>\n",
       "      <td>1</td>\n",
       "      <td>0.009436</td>\n",
       "      <td>2009</td>\n",
       "      <td>6</td>\n",
       "      <td>15</td>\n",
       "      <td>1</td>\n",
       "      <td>17</td>\n",
       "    </tr>\n",
       "    <tr>\n",
       "      <th>1</th>\n",
       "      <td>-74.016048</td>\n",
       "      <td>40.711303</td>\n",
       "      <td>-73.979268</td>\n",
       "      <td>40.782004</td>\n",
       "      <td>1</td>\n",
       "      <td>0.079696</td>\n",
       "      <td>2010</td>\n",
       "      <td>1</td>\n",
       "      <td>5</td>\n",
       "      <td>2</td>\n",
       "      <td>16</td>\n",
       "    </tr>\n",
       "    <tr>\n",
       "      <th>2</th>\n",
       "      <td>-73.982738</td>\n",
       "      <td>40.761270</td>\n",
       "      <td>-73.991242</td>\n",
       "      <td>40.750562</td>\n",
       "      <td>2</td>\n",
       "      <td>0.013674</td>\n",
       "      <td>2011</td>\n",
       "      <td>8</td>\n",
       "      <td>18</td>\n",
       "      <td>4</td>\n",
       "      <td>0</td>\n",
       "    </tr>\n",
       "    <tr>\n",
       "      <th>3</th>\n",
       "      <td>-73.987130</td>\n",
       "      <td>40.733143</td>\n",
       "      <td>-73.991567</td>\n",
       "      <td>40.758092</td>\n",
       "      <td>1</td>\n",
       "      <td>0.025340</td>\n",
       "      <td>2012</td>\n",
       "      <td>4</td>\n",
       "      <td>21</td>\n",
       "      <td>6</td>\n",
       "      <td>4</td>\n",
       "    </tr>\n",
       "    <tr>\n",
       "      <th>4</th>\n",
       "      <td>-73.968095</td>\n",
       "      <td>40.768008</td>\n",
       "      <td>-73.956655</td>\n",
       "      <td>40.783762</td>\n",
       "      <td>1</td>\n",
       "      <td>0.019470</td>\n",
       "      <td>2010</td>\n",
       "      <td>3</td>\n",
       "      <td>9</td>\n",
       "      <td>2</td>\n",
       "      <td>7</td>\n",
       "    </tr>\n",
       "  </tbody>\n",
       "</table>\n",
       "</div>"
      ],
      "text/plain": [
       "   pickup_longitude  pickup_latitude  dropoff_longitude  dropoff_latitude  \\\n",
       "0        -73.844311        40.721319         -73.841610         40.712278   \n",
       "1        -74.016048        40.711303         -73.979268         40.782004   \n",
       "2        -73.982738        40.761270         -73.991242         40.750562   \n",
       "3        -73.987130        40.733143         -73.991567         40.758092   \n",
       "4        -73.968095        40.768008         -73.956655         40.783762   \n",
       "\n",
       "   passenger_count  distance  year  month  day  weekday  hour  \n",
       "0                1  0.009436  2009      6   15        1    17  \n",
       "1                1  0.079696  2010      1    5        2    16  \n",
       "2                2  0.013674  2011      8   18        4     0  \n",
       "3                1  0.025340  2012      4   21        6     4  \n",
       "4                1  0.019470  2010      3    9        2     7  "
      ]
     },
     "execution_count": 5,
     "metadata": {},
     "output_type": "execute_result"
    }
   ],
   "source": [
    "datax.head()"
   ]
  },
  {
   "cell_type": "code",
   "execution_count": 126,
   "metadata": {},
   "outputs": [],
   "source": [
    "x_train,x_test,y_train,y_test = train_test_split(datax,datay,test_size=0.1,random_state=0)"
   ]
  },
  {
   "cell_type": "markdown",
   "metadata": {},
   "source": [
    "# model training(XGBoost)"
   ]
  },
  {
   "cell_type": "code",
   "execution_count": 15,
   "metadata": {},
   "outputs": [],
   "source": [
    "import xgboost as xgb"
   ]
  },
  {
   "cell_type": "code",
   "execution_count": 128,
   "metadata": {},
   "outputs": [
    {
     "name": "stderr",
     "output_type": "stream",
     "text": [
      "C:\\Users\\User\\Anaconda3\\lib\\site-packages\\xgboost\\core.py:587: FutureWarning: Series.base is deprecated and will be removed in a future version\n",
      "  if getattr(data, 'base', None) is not None and \\\n"
     ]
    }
   ],
   "source": [
    "xgb_train=xgb.DMatrix(x_train,y_train)\n",
    "xgb_test =xgb.DMatrix(x_test,y_test)"
   ]
  },
  {
   "cell_type": "code",
   "execution_count": 135,
   "metadata": {},
   "outputs": [],
   "source": [
    "fit_para ={\n",
    "'num_boost_round':1200,\n",
    "'verbose_eval':100,\n",
    "}\n",
    "para = {\n",
    "'learning_rate': 0.05,\n",
    "'max_depth': 7,\n",
    "'min_child_weight': 1,\n",
    "'subsample': 0.8,\n",
    "'colsample_bytree':0.8,\n",
    "'booster':'gbtree',\n",
    "'objective':'reg:linear',\n",
    "'nthread':-1\n",
    "}"
   ]
  },
  {
   "cell_type": "code",
   "execution_count": 136,
   "metadata": {
    "scrolled": true
   },
   "outputs": [
    {
     "name": "stdout",
     "output_type": "stream",
     "text": [
      "[17:41:07] WARNING: C:/Jenkins/workspace/xgboost-win64_release_0.90/src/objective/regression_obj.cu:152: reg:linear is now deprecated in favor of reg:squarederror.\n",
      "[17:41:07] WARNING: C:\\Jenkins\\workspace\\xgboost-win64_release_0.90\\src\\learner.cc:686: Tree method is automatically selected to be 'approx' for faster speed. To use old behavior (exact greedy algorithm on single machine), set tree_method to 'exact'.\n",
      "[0]\ttrain-rmse:11.9484\ttest-rmse:11.9289\n",
      "[100]\ttrain-rmse:2.81031\ttest-rmse:2.81854\n",
      "[200]\ttrain-rmse:2.71533\ttest-rmse:2.72954\n",
      "[300]\ttrain-rmse:2.66319\ttest-rmse:2.6826\n",
      "[400]\ttrain-rmse:2.6263\ttest-rmse:2.65036\n",
      "[500]\ttrain-rmse:2.60184\ttest-rmse:2.63045\n",
      "[600]\ttrain-rmse:2.58417\ttest-rmse:2.61676\n",
      "[700]\ttrain-rmse:2.56727\ttest-rmse:2.60479\n",
      "[800]\ttrain-rmse:2.5527\ttest-rmse:2.59457\n",
      "[900]\ttrain-rmse:2.54156\ttest-rmse:2.5882\n",
      "[1000]\ttrain-rmse:2.53065\ttest-rmse:2.58241\n",
      "[1100]\ttrain-rmse:2.52054\ttest-rmse:2.57752\n",
      "[1199]\ttrain-rmse:2.5118\ttest-rmse:2.57332\n"
     ]
    }
   ],
   "source": [
    "model_jmda = xgb.train(dtrain=xgb_train,params=para,**fit_para,evals=[(xgb_train,'train'),(xgb_test,'test')])"
   ]
  },
  {
   "cell_type": "markdown",
   "metadata": {},
   "source": [
    "# model training(RF)"
   ]
  },
  {
   "cell_type": "code",
   "execution_count": 41,
   "metadata": {},
   "outputs": [
    {
     "data": {
      "text/plain": [
       "0.863175862944648"
      ]
     },
     "execution_count": 41,
     "metadata": {},
     "output_type": "execute_result"
    }
   ],
   "source": [
    "model_jmda = RandomForestRegressor(n_estimators=43,max_depth=13)\n",
    "model_jmda.fit(x_train,y_train)\n",
    "model_jmda.score(x_test,y_test)"
   ]
  },
  {
   "cell_type": "code",
   "execution_count": 46,
   "metadata": {},
   "outputs": [
    {
     "name": "stdout",
     "output_type": "stream",
     "text": [
      "(0.006449553401248837, 'pickup_longitude')\n",
      "(0.004346030048779438, 'pickup_latitude')\n",
      "(0.008176893360960034, 'dropoff_longitude')\n",
      "(0.012321519787107132, 'dropoff_latitude')\n",
      "(0.00018786464945402578, 'passenger_count')\n",
      "(0.9266970842911727, 'distance')\n",
      "(0.027807528876261468, 'year')\n",
      "(0.0034891107948415738, 'month')\n",
      "(0.0009290155895758395, 'day')\n",
      "(0.001836373304837192, 'weekday')\n",
      "(0.007759025895761809, 'hour')\n"
     ]
    }
   ],
   "source": [
    "for i in zip(model_jmda.feature_importances_,datax.columns):\n",
    "    print(i)"
   ]
  },
  {
   "cell_type": "markdown",
   "metadata": {},
   "source": [
    "# model training(DL)"
   ]
  },
  {
   "cell_type": "code",
   "execution_count": 50,
   "metadata": {},
   "outputs": [],
   "source": [
    "import tensorflow as tf\n",
    "from tensorflow.keras import Sequential\n",
    "from tensorflow.keras.layers import Dense,Dropout\n",
    "from sklearn.preprocessing import MinMaxScaler"
   ]
  },
  {
   "cell_type": "code",
   "execution_count": 65,
   "metadata": {},
   "outputs": [],
   "source": [
    "datax_nom = MinMaxScaler().fit_transform(datax)\n",
    "x_train_1,x_test_1,y_train_1,y_test_1 = train_test_split(datax_nom,datay.values,test_size=0.05,random_state=0)"
   ]
  },
  {
   "cell_type": "code",
   "execution_count": 67,
   "metadata": {},
   "outputs": [],
   "source": [
    "model_jmda_dl = Sequential()\n",
    "model_jmda_dl.add(Dense(1024,activation='relu'))\n",
    "model_jmda_dl.add(Dropout(0.2))\n",
    "model_jmda_dl.add(Dense(256,activation='relu'))\n",
    "model_jmda_dl.add(Dropout(0.2))\n",
    "model_jmda_dl.add(Dense(64,activation='relu'))\n",
    "model_jmda_dl.add(Dropout(0.2))\n",
    "model_jmda_dl.add(Dense(16,activation='relu'))\n",
    "model_jmda_dl.add(Dropout(0.2))\n",
    "model_jmda_dl.add(Dense(1))\n",
    "model_jmda_dl.compile(optimizer='adam',loss='mse')"
   ]
  },
  {
   "cell_type": "code",
   "execution_count": 68,
   "metadata": {
    "scrolled": true
   },
   "outputs": [
    {
     "name": "stdout",
     "output_type": "stream",
     "text": [
      "Train on 4045523 samples, validate on 449503 samples\n",
      "Epoch 1/30\n",
      "4045523/4045523 [==============================] - 121s 30us/sample - loss: 16.7248 - val_loss: 9.6816\n",
      "Epoch 2/30\n",
      "4045523/4045523 [==============================] - 122s 30us/sample - loss: 13.0539 - val_loss: 8.7471\n",
      "Epoch 3/30\n",
      "4045523/4045523 [==============================] - 122s 30us/sample - loss: 11.6888 - val_loss: 8.5793\n",
      "Epoch 4/30\n",
      "4045523/4045523 [==============================] - 125s 31us/sample - loss: 10.9721 - val_loss: 8.5520\n",
      "Epoch 5/30\n",
      "4045523/4045523 [==============================] - 127s 31us/sample - loss: 10.5415 - val_loss: 8.2719\n",
      "Epoch 6/30\n",
      "4045523/4045523 [==============================] - 124s 31us/sample - loss: 10.3156 - val_loss: 7.9709\n",
      "Epoch 7/30\n",
      "4045523/4045523 [==============================] - 127s 31us/sample - loss: 10.1719 - val_loss: 8.2371\n",
      "Epoch 8/30\n",
      "4045523/4045523 [==============================] - 137s 34us/sample - loss: 10.0893 - val_loss: 8.0028\n",
      "Epoch 9/30\n",
      "4045523/4045523 [==============================] - 135s 33us/sample - loss: 10.0059 - val_loss: 7.7634\n",
      "Epoch 10/30\n",
      "4045523/4045523 [==============================] - 131s 32us/sample - loss: 9.9582 - val_loss: 7.7794\n",
      "Epoch 11/30\n",
      "4045523/4045523 [==============================] - 131s 32us/sample - loss: 9.8961 - val_loss: 8.0831\n",
      "Epoch 12/30\n",
      "4045523/4045523 [==============================] - 134s 33us/sample - loss: 9.8551 - val_loss: 7.5863\n",
      "Epoch 13/30\n",
      "4045523/4045523 [==============================] - 129s 32us/sample - loss: 9.8428 - val_loss: 7.6784\n",
      "Epoch 14/30\n",
      "4045523/4045523 [==============================] - 133s 33us/sample - loss: 9.7872 - val_loss: 7.8228\n",
      "Epoch 15/30\n",
      "4045523/4045523 [==============================] - 134s 33us/sample - loss: 9.7667 - val_loss: 7.8563\n",
      "Epoch 16/30\n",
      "4045523/4045523 [==============================] - 132s 33us/sample - loss: 9.7517 - val_loss: 7.6270\n",
      "Epoch 17/30\n",
      "4045523/4045523 [==============================] - 135s 33us/sample - loss: 9.7185 - val_loss: 7.9268\n",
      "Epoch 18/30\n",
      "4045523/4045523 [==============================] - 133s 33us/sample - loss: 9.6820 - val_loss: 7.5353\n",
      "Epoch 19/30\n",
      "4045523/4045523 [==============================] - 136s 34us/sample - loss: 9.6915 - val_loss: 7.5020\n",
      "Epoch 20/30\n",
      "4045523/4045523 [==============================] - 132s 33us/sample - loss: 9.6832 - val_loss: 7.5478\n",
      "Epoch 21/30\n",
      "4045523/4045523 [==============================] - 134s 33us/sample - loss: 9.6364 - val_loss: 7.5698\n",
      "Epoch 22/30\n",
      "4045523/4045523 [==============================] - 133s 33us/sample - loss: 9.6080 - val_loss: 7.5733\n",
      "Epoch 23/30\n",
      "4045523/4045523 [==============================] - 132s 33us/sample - loss: 9.5976 - val_loss: 7.4264\n",
      "Epoch 24/30\n",
      "4045523/4045523 [==============================] - 134s 33us/sample - loss: 9.5786 - val_loss: 7.4089\n",
      "Epoch 25/30\n",
      "4045523/4045523 [==============================] - 129s 32us/sample - loss: 9.5789 - val_loss: 7.7128\n",
      "Epoch 26/30\n",
      "4045523/4045523 [==============================] - 131s 32us/sample - loss: 9.5612 - val_loss: 7.4201\n",
      "Epoch 27/30\n",
      "4045523/4045523 [==============================] - 128s 32us/sample - loss: 9.5359 - val_loss: 7.5286\n",
      "Epoch 28/30\n",
      "4045523/4045523 [==============================] - 131s 32us/sample - loss: 9.5243 - val_loss: 7.5266\n",
      "Epoch 29/30\n",
      "4045523/4045523 [==============================] - 133s 33us/sample - loss: 9.5189 - val_loss: 7.3056\n",
      "Epoch 30/30\n",
      "4045523/4045523 [==============================] - 158s 39us/sample - loss: 9.5026 - val_loss: 7.4407\n"
     ]
    },
    {
     "data": {
      "text/plain": [
       "<tensorflow.python.keras.callbacks.History at 0x1b0eb8f9a90>"
      ]
     },
     "execution_count": 68,
     "metadata": {},
     "output_type": "execute_result"
    }
   ],
   "source": [
    "model_jmda_dl.fit(x_train_1,y_train_1,batch_size=1000,epochs=30,validation_split=0.1)"
   ]
  },
  {
   "cell_type": "markdown",
   "metadata": {},
   "source": [
    "# metrics"
   ]
  },
  {
   "cell_type": "code",
   "execution_count": 108,
   "metadata": {},
   "outputs": [],
   "source": [
    "def Regression_evaluator(y_test, y_pred):\n",
    "    # 平均絶対誤差 (MAE: Mean Absolute Error)\n",
    "    from sklearn.metrics import mean_absolute_error\n",
    "    print(\"平均絶対誤差：\", mean_absolute_error(y_test, y_pred))\n",
    "    # 平均二乗誤差 (MSE: Mean Squared Error)\n",
    "    from sklearn.metrics import mean_squared_error\n",
    "    print(\"平均絶対誤差：\", mean_squared_error(y_test, y_pred))\n",
    "    # 二乗平均平方根誤差 (RMSE: Root Mean Squared Error) -- sklearn には実装されていないのでnumpyを利用\n",
    "    import numpy as np\n",
    "    print(\"二乗平均平方根誤差：\", np.sqrt(mean_squared_error(y_test, y_pred)))\n",
    "    # 相関係数（Correlation)\n",
    "    from sklearn.metrics import r2_score\n",
    "    print(\"相関係数 (R)：\", np.sqrt(r2_score(y_test, y_pred)))\n",
    "    # 決定係数 (R2, R-squared, coefficient of determination)) \n",
    "    from sklearn.metrics import r2_score\n",
    "    print(\"決定係数 (R2)：\", r2_score(y_test, y_pred))"
   ]
  },
  {
   "cell_type": "markdown",
   "metadata": {},
   "source": [
    "(1)Random forest"
   ]
  },
  {
   "cell_type": "code",
   "execution_count": 54,
   "metadata": {},
   "outputs": [
    {
     "name": "stdout",
     "output_type": "stream",
     "text": [
      "平均絶対誤差： 1.600803979776155\n",
      "平均絶対誤差： 7.519675023805072\n",
      "二乗平均平方根誤差： 2.7422025862078594\n",
      "相関係数 (R)： 0.9290725821724846\n",
      "決定係数 (R2)： 0.863175862944648\n"
     ]
    }
   ],
   "source": [
    "y_pred_rf = model_jmda.predict(x_test)\n",
    "Regression_evaluator(y_test,y_pred_rf)"
   ]
  },
  {
   "cell_type": "markdown",
   "metadata": {},
   "source": [
    "(2)deep learning"
   ]
  },
  {
   "cell_type": "code",
   "execution_count": 69,
   "metadata": {},
   "outputs": [
    {
     "name": "stdout",
     "output_type": "stream",
     "text": [
      "平均絶対誤差： 1.4903063957855491\n",
      "平均絶対誤差： 7.344570505603727\n",
      "二乗平均平方根誤差： 2.7100868077616496\n",
      "相関係数 (R)： 0.9307856760005601\n",
      "決定係数 (R2)： 0.8663619746478195\n"
     ]
    }
   ],
   "source": [
    "y_pred_dl = np.concatenate(model_jmda_dl.predict(x_test_1))\n",
    "Regression_evaluator(y_test_1,y_pred_dl)"
   ]
  },
  {
   "cell_type": "markdown",
   "metadata": {},
   "source": [
    "(3)XGBoost"
   ]
  },
  {
   "cell_type": "code",
   "execution_count": 137,
   "metadata": {},
   "outputs": [
    {
     "name": "stdout",
     "output_type": "stream",
     "text": [
      "平均絶対誤差： 1.3855217148699803\n",
      "平均絶対誤差： 6.622279446261966\n",
      "二乗平均平方根誤差： 2.5733789939031455\n",
      "相関係数 (R)： 0.9380748154277693\n",
      "決定係数 (R2)： 0.8799843593398433\n"
     ]
    }
   ],
   "source": [
    "xgb_test_x = xgb.DMatrix(x_test)\n",
    "y_pred_xgb = model_jmda.predict(xgb_test_x)\n",
    "Regression_evaluator(y_test,y_pred_xgb)"
   ]
  }
 ],
 "metadata": {
  "kernelspec": {
   "display_name": "Python 3",
   "language": "python",
   "name": "python3"
  },
  "language_info": {
   "codemirror_mode": {
    "name": "ipython",
    "version": 3
   },
   "file_extension": ".py",
   "mimetype": "text/x-python",
   "name": "python",
   "nbconvert_exporter": "python",
   "pygments_lexer": "ipython3",
   "version": "3.7.3"
  }
 },
 "nbformat": 4,
 "nbformat_minor": 2
}
